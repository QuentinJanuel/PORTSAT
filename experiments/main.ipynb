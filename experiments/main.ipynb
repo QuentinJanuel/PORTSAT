{
 "cells": [
  {
   "cell_type": "markdown",
   "metadata": {},
   "source": [
    "# Argumentation framework"
   ]
  },
  {
   "cell_type": "markdown",
   "metadata": {},
   "source": [
    "### Unit testing"
   ]
  },
  {
   "cell_type": "code",
   "execution_count": null,
   "metadata": {},
   "outputs": [],
   "source": [
    "from utils.iccma.index import get_graphs\n",
    "from utils.test.index import test\n",
    "\n",
    "TESTING = False\n",
    "\n",
    "if TESTING:\n",
    "    graphs = get_graphs([\n",
    "        (\"scc\", \"small\"),\n",
    "        (\"gr\", \"small\"),\n",
    "        (\"st\", \"small\"),\n",
    "    ])\n",
    "    # Complete, stable and preferred\n",
    "    test(\n",
    "        graphs=graphs,\n",
    "        solvers=[\"manysat\", \"glucose\"],\n",
    "        semantics=[\"CO\", \"ST\", \"PR\"],\n",
    "        tasks=[\"SE\", \"EE\"],\n",
    "        timeout=1,  # seconds\n",
    "    )\n",
    "    # Grounded (must not set the solvers)\n",
    "    test(\n",
    "        graphs=graphs,\n",
    "        solvers=[],\n",
    "        semantics=[\"GR\"],\n",
    "        tasks=[\"SE\", \"EE\"],\n",
    "        timeout=1,  # seconds\n",
    "    )\n",
    "else:\n",
    "    print(\"Skipped testing\")"
   ]
  },
  {
   "cell_type": "markdown",
   "metadata": {},
   "source": [
    "### Benchmarking"
   ]
  },
  {
   "cell_type": "code",
   "execution_count": 4,
   "metadata": {},
   "outputs": [
    {
     "name": "stdout",
     "output_type": "stream",
     "text": [
      "100%          \n",
      "8%          "
     ]
    },
    {
     "ename": "KeyboardInterrupt",
     "evalue": "",
     "output_type": "error",
     "traceback": [
      "\u001b[0;31m---------------------------------------------------------------------------\u001b[0m",
      "\u001b[0;31mKeyboardInterrupt\u001b[0m                         Traceback (most recent call last)",
      "Input \u001b[0;32mIn [4]\u001b[0m, in \u001b[0;36m<cell line: 8>\u001b[0;34m()\u001b[0m\n\u001b[1;32m      6\u001b[0m export \u001b[39m=\u001b[39m Export(Path(\u001b[39m\"\u001b[39m\u001b[39mresults\u001b[39m\u001b[39m\"\u001b[39m), \u001b[39m\"\u001b[39m\u001b[39mglu-pre_pr\u001b[39m\u001b[39m\"\u001b[39m)\n\u001b[1;32m      8\u001b[0m \u001b[39mfor\u001b[39;00m size \u001b[39min\u001b[39;00m [\u001b[39m\"\u001b[39m\u001b[39msmall\u001b[39m\u001b[39m\"\u001b[39m, \u001b[39m\"\u001b[39m\u001b[39mmedium\u001b[39m\u001b[39m\"\u001b[39m, \u001b[39m\"\u001b[39m\u001b[39mlarge\u001b[39m\u001b[39m\"\u001b[39m]:\n\u001b[0;32m----> 9\u001b[0m     bench(\n\u001b[1;32m     10\u001b[0m         graphs\u001b[39m=\u001b[39;49mget_graphs([(\u001b[39m\"\u001b[39;49m\u001b[39mscc\u001b[39;49m\u001b[39m\"\u001b[39;49m, size)]),\n\u001b[1;32m     11\u001b[0m         solvers\u001b[39m=\u001b[39;49m[\u001b[39m\"\u001b[39;49m\u001b[39mglucose\u001b[39;49m\u001b[39m\"\u001b[39;49m, \u001b[39m\"\u001b[39;49m\u001b[39mglucose-pre\u001b[39;49m\u001b[39m\"\u001b[39;49m],\n\u001b[1;32m     12\u001b[0m         semantics\u001b[39m=\u001b[39;49m[\u001b[39m\"\u001b[39;49m\u001b[39mPR\u001b[39;49m\u001b[39m\"\u001b[39;49m],\n\u001b[1;32m     13\u001b[0m         tasks\u001b[39m=\u001b[39;49m[\u001b[39m\"\u001b[39;49m\u001b[39mSE\u001b[39;49m\u001b[39m\"\u001b[39;49m],\n\u001b[1;32m     14\u001b[0m         timeout\u001b[39m=\u001b[39;49m\u001b[39m5\u001b[39;49m \u001b[39m*\u001b[39;49m \u001b[39m60\u001b[39;49m,  \u001b[39m# seconds\u001b[39;49;00m\n\u001b[1;32m     15\u001b[0m         export\u001b[39m=\u001b[39;49mexport,\n\u001b[1;32m     16\u001b[0m     )\n",
      "File \u001b[0;32m~/Bureau/codes/TER/experiments/utils/benchmark/index.py:40\u001b[0m, in \u001b[0;36mbench\u001b[0;34m(graphs, solvers, semantics, tasks, timeout, export)\u001b[0m\n\u001b[1;32m     <a href='file:///home/dappermink/Bureau/codes/TER/experiments/utils/benchmark/index.py?line=30'>31</a>\u001b[0m     job \u001b[39m=\u001b[39m Job[\u001b[39mfloat\u001b[39m](\n\u001b[1;32m     <a href='file:///home/dappermink/Bureau/codes/TER/experiments/utils/benchmark/index.py?line=31'>32</a>\u001b[0m         benchmark_solve,\n\u001b[1;32m     <a href='file:///home/dappermink/Bureau/codes/TER/experiments/utils/benchmark/index.py?line=32'>33</a>\u001b[0m         \u001b[39minput\u001b[39m\u001b[39m=\u001b[39mgraph\u001b[39m.\u001b[39mget_input(),\n\u001b[0;32m   (...)\u001b[0m\n\u001b[1;32m     <a href='file:///home/dappermink/Bureau/codes/TER/experiments/utils/benchmark/index.py?line=36'>37</a>\u001b[0m         timeout\u001b[39m=\u001b[39mtimeout,\n\u001b[1;32m     <a href='file:///home/dappermink/Bureau/codes/TER/experiments/utils/benchmark/index.py?line=37'>38</a>\u001b[0m     )\n\u001b[1;32m     <a href='file:///home/dappermink/Bureau/codes/TER/experiments/utils/benchmark/index.py?line=38'>39</a>\u001b[0m     executor\u001b[39m.\u001b[39madd(\u001b[39mf\u001b[39m\u001b[39m\"\u001b[39m\u001b[39m{\u001b[39;00msolver\u001b[39m}\u001b[39;00m\u001b[39m{\u001b[39;00mproblem\u001b[39m}\u001b[39;00m\u001b[39m\"\u001b[39m, job)\n\u001b[0;32m---> <a href='file:///home/dappermink/Bureau/codes/TER/experiments/utils/benchmark/index.py?line=39'>40</a>\u001b[0m executor\u001b[39m.\u001b[39;49mexec_all()\n\u001b[1;32m     <a href='file:///home/dappermink/Bureau/codes/TER/experiments/utils/benchmark/index.py?line=40'>41</a>\u001b[0m \u001b[39mfor\u001b[39;00m solver, problem \u001b[39min\u001b[39;00m product(solvers, problems):\n\u001b[1;32m     <a href='file:///home/dappermink/Bureau/codes/TER/experiments/utils/benchmark/index.py?line=41'>42</a>\u001b[0m     results \u001b[39m=\u001b[39m executor\u001b[39m.\u001b[39mget_results(\u001b[39mf\u001b[39m\u001b[39m\"\u001b[39m\u001b[39m{\u001b[39;00msolver\u001b[39m}\u001b[39;00m\u001b[39m{\u001b[39;00mproblem\u001b[39m}\u001b[39;00m\u001b[39m\"\u001b[39m)\n",
      "File \u001b[0;32m~/Bureau/codes/TER/experiments/utils/benchmark/randomized_executor.py:34\u001b[0m, in \u001b[0;36mRandomizedExecutor.exec_all\u001b[0;34m(self, verbose)\u001b[0m\n\u001b[1;32m     <a href='file:///home/dappermink/Bureau/codes/TER/experiments/utils/benchmark/randomized_executor.py?line=31'>32</a>\u001b[0m rr\u001b[39m.\u001b[39mshuffle(\u001b[39mself\u001b[39m\u001b[39m.\u001b[39m_jobs)\n\u001b[1;32m     <a href='file:///home/dappermink/Bureau/codes/TER/experiments/utils/benchmark/randomized_executor.py?line=32'>33</a>\u001b[0m \u001b[39mfor\u001b[39;00m key, job \u001b[39min\u001b[39;00m \u001b[39mself\u001b[39m\u001b[39m.\u001b[39m_jobs:\n\u001b[0;32m---> <a href='file:///home/dappermink/Bureau/codes/TER/experiments/utils/benchmark/randomized_executor.py?line=33'>34</a>\u001b[0m     result \u001b[39m=\u001b[39m job\u001b[39m.\u001b[39;49mrun()\n\u001b[1;32m     <a href='file:///home/dappermink/Bureau/codes/TER/experiments/utils/benchmark/randomized_executor.py?line=34'>35</a>\u001b[0m     \u001b[39mself\u001b[39m\u001b[39m.\u001b[39m_results\u001b[39m.\u001b[39mappend((key, result))\n\u001b[1;32m     <a href='file:///home/dappermink/Bureau/codes/TER/experiments/utils/benchmark/randomized_executor.py?line=35'>36</a>\u001b[0m     cur_progress \u001b[39m+\u001b[39m\u001b[39m=\u001b[39m \u001b[39m1\u001b[39m\n",
      "File \u001b[0;32m~/Bureau/codes/TER/experiments/utils/benchmark/randomized_executor.py:16\u001b[0m, in \u001b[0;36mJob.run\u001b[0;34m(self)\u001b[0m\n\u001b[1;32m     <a href='file:///home/dappermink/Bureau/codes/TER/experiments/utils/benchmark/randomized_executor.py?line=14'>15</a>\u001b[0m \u001b[39mdef\u001b[39;00m \u001b[39mrun\u001b[39m(\u001b[39mself\u001b[39m) \u001b[39m-\u001b[39m\u001b[39m>\u001b[39m T:\n\u001b[0;32m---> <a href='file:///home/dappermink/Bureau/codes/TER/experiments/utils/benchmark/randomized_executor.py?line=15'>16</a>\u001b[0m     \u001b[39mreturn\u001b[39;00m \u001b[39mself\u001b[39;49m\u001b[39m.\u001b[39;49m_fun(\u001b[39m*\u001b[39;49m\u001b[39mself\u001b[39;49m\u001b[39m.\u001b[39;49m_args, \u001b[39m*\u001b[39;49m\u001b[39m*\u001b[39;49m\u001b[39mself\u001b[39;49m\u001b[39m.\u001b[39;49m_kwargs)\n",
      "File \u001b[0;32m~/Bureau/codes/TER/experiments/utils/benchmark/benchmark.py:25\u001b[0m, in \u001b[0;36mbenchmark_solve\u001b[0;34m(input, problem, solvers, timeout, arg, mesure_only_sat_solving)\u001b[0m\n\u001b[1;32m     <a href='file:///home/dappermink/Bureau/codes/TER/experiments/utils/benchmark/benchmark.py?line=15'>16</a>\u001b[0m \u001b[39mdef\u001b[39;00m \u001b[39mbenchmark_solve\u001b[39m(\n\u001b[1;32m     <a href='file:///home/dappermink/Bureau/codes/TER/experiments/utils/benchmark/benchmark.py?line=16'>17</a>\u001b[0m     \u001b[39minput\u001b[39m: Path,\n\u001b[1;32m     <a href='file:///home/dappermink/Bureau/codes/TER/experiments/utils/benchmark/benchmark.py?line=17'>18</a>\u001b[0m     problem: Problem,\n\u001b[0;32m   (...)\u001b[0m\n\u001b[1;32m     <a href='file:///home/dappermink/Bureau/codes/TER/experiments/utils/benchmark/benchmark.py?line=21'>22</a>\u001b[0m     mesure_only_sat_solving: \u001b[39mbool\u001b[39m \u001b[39m=\u001b[39m \u001b[39mTrue\u001b[39;00m,\n\u001b[1;32m     <a href='file:///home/dappermink/Bureau/codes/TER/experiments/utils/benchmark/benchmark.py?line=22'>23</a>\u001b[0m ) \u001b[39m-\u001b[39m\u001b[39m>\u001b[39m \u001b[39mfloat\u001b[39m:\n\u001b[1;32m     <a href='file:///home/dappermink/Bureau/codes/TER/experiments/utils/benchmark/benchmark.py?line=23'>24</a>\u001b[0m     \u001b[39mif\u001b[39;00m mesure_only_sat_solving:\n\u001b[0;32m---> <a href='file:///home/dappermink/Bureau/codes/TER/experiments/utils/benchmark/benchmark.py?line=24'>25</a>\u001b[0m         output \u001b[39m=\u001b[39m solve(\n\u001b[1;32m     <a href='file:///home/dappermink/Bureau/codes/TER/experiments/utils/benchmark/benchmark.py?line=25'>26</a>\u001b[0m             \u001b[39minput\u001b[39;49m\u001b[39m=\u001b[39;49m\u001b[39minput\u001b[39;49m,\n\u001b[1;32m     <a href='file:///home/dappermink/Bureau/codes/TER/experiments/utils/benchmark/benchmark.py?line=26'>27</a>\u001b[0m             problem\u001b[39m=\u001b[39;49mproblem,\n\u001b[1;32m     <a href='file:///home/dappermink/Bureau/codes/TER/experiments/utils/benchmark/benchmark.py?line=27'>28</a>\u001b[0m             arg\u001b[39m=\u001b[39;49marg,\n\u001b[1;32m     <a href='file:///home/dappermink/Bureau/codes/TER/experiments/utils/benchmark/benchmark.py?line=28'>29</a>\u001b[0m             solvers\u001b[39m=\u001b[39;49msolvers,\n\u001b[1;32m     <a href='file:///home/dappermink/Bureau/codes/TER/experiments/utils/benchmark/benchmark.py?line=29'>30</a>\u001b[0m             \u001b[39mformat\u001b[39;49m\u001b[39m=\u001b[39;49m\u001b[39m\"\u001b[39;49m\u001b[39mtgf\u001b[39;49m\u001b[39m\"\u001b[39;49m,\n\u001b[1;32m     <a href='file:///home/dappermink/Bureau/codes/TER/experiments/utils/benchmark/benchmark.py?line=30'>31</a>\u001b[0m             timeout\u001b[39m=\u001b[39;49mtimeout,\n\u001b[1;32m     <a href='file:///home/dappermink/Bureau/codes/TER/experiments/utils/benchmark/benchmark.py?line=31'>32</a>\u001b[0m             opt_flags\u001b[39m=\u001b[39;49m[\u001b[39m\"\u001b[39;49m\u001b[39m-v\u001b[39;49m\u001b[39m\"\u001b[39;49m],\n\u001b[1;32m     <a href='file:///home/dappermink/Bureau/codes/TER/experiments/utils/benchmark/benchmark.py?line=32'>33</a>\u001b[0m         )\n\u001b[1;32m     <a href='file:///home/dappermink/Bureau/codes/TER/experiments/utils/benchmark/benchmark.py?line=33'>34</a>\u001b[0m         \u001b[39mif\u001b[39;00m output \u001b[39mis\u001b[39;00m \u001b[39mNone\u001b[39;00m:\n\u001b[1;32m     <a href='file:///home/dappermink/Bureau/codes/TER/experiments/utils/benchmark/benchmark.py?line=34'>35</a>\u001b[0m             \u001b[39mreturn\u001b[39;00m timeout \u001b[39m*\u001b[39m \u001b[39m10\u001b[39m\n",
      "File \u001b[0;32m~/Bureau/codes/TER/experiments/utils/solve.py:29\u001b[0m, in \u001b[0;36msolve\u001b[0;34m(input, problem, arg, solvers, format, timeout, opt_flags)\u001b[0m\n\u001b[1;32m     <a href='file:///home/dappermink/Bureau/codes/TER/experiments/utils/solve.py?line=18'>19</a>\u001b[0m \u001b[39mdef\u001b[39;00m \u001b[39msolve\u001b[39m(\n\u001b[1;32m     <a href='file:///home/dappermink/Bureau/codes/TER/experiments/utils/solve.py?line=19'>20</a>\u001b[0m     \u001b[39minput\u001b[39m: Path,\n\u001b[1;32m     <a href='file:///home/dappermink/Bureau/codes/TER/experiments/utils/solve.py?line=20'>21</a>\u001b[0m     problem: Problem,\n\u001b[0;32m   (...)\u001b[0m\n\u001b[1;32m     <a href='file:///home/dappermink/Bureau/codes/TER/experiments/utils/solve.py?line=25'>26</a>\u001b[0m     opt_flags: List[\u001b[39mstr\u001b[39m] \u001b[39m=\u001b[39m [],\n\u001b[1;32m     <a href='file:///home/dappermink/Bureau/codes/TER/experiments/utils/solve.py?line=26'>27</a>\u001b[0m ) \u001b[39m-\u001b[39m\u001b[39m>\u001b[39m \u001b[39mstr\u001b[39m \u001b[39m|\u001b[39m \u001b[39mNone\u001b[39;00m:\n\u001b[1;32m     <a href='file:///home/dappermink/Bureau/codes/TER/experiments/utils/solve.py?line=27'>28</a>\u001b[0m     \u001b[39mtry\u001b[39;00m:\n\u001b[0;32m---> <a href='file:///home/dappermink/Bureau/codes/TER/experiments/utils/solve.py?line=28'>29</a>\u001b[0m         result \u001b[39m=\u001b[39m subprocess\u001b[39m.\u001b[39;49mrun(\n\u001b[1;32m     <a href='file:///home/dappermink/Bureau/codes/TER/experiments/utils/solve.py?line=29'>30</a>\u001b[0m             [\n\u001b[1;32m     <a href='file:///home/dappermink/Bureau/codes/TER/experiments/utils/solve.py?line=30'>31</a>\u001b[0m                 get_exe(),\n\u001b[1;32m     <a href='file:///home/dappermink/Bureau/codes/TER/experiments/utils/solve.py?line=31'>32</a>\u001b[0m                 \u001b[39m\"\u001b[39;49m\u001b[39m-p\u001b[39;49m\u001b[39m\"\u001b[39;49m,\n\u001b[1;32m     <a href='file:///home/dappermink/Bureau/codes/TER/experiments/utils/solve.py?line=32'>33</a>\u001b[0m                 \u001b[39mstr\u001b[39;49m(problem),\n\u001b[1;32m     <a href='file:///home/dappermink/Bureau/codes/TER/experiments/utils/solve.py?line=33'>34</a>\u001b[0m                 \u001b[39m\"\u001b[39;49m\u001b[39m-f\u001b[39;49m\u001b[39m\"\u001b[39;49m,\n\u001b[1;32m     <a href='file:///home/dappermink/Bureau/codes/TER/experiments/utils/solve.py?line=34'>35</a>\u001b[0m                 \u001b[39minput\u001b[39;49m,\n\u001b[1;32m     <a href='file:///home/dappermink/Bureau/codes/TER/experiments/utils/solve.py?line=35'>36</a>\u001b[0m                 \u001b[39m\"\u001b[39;49m\u001b[39m-fo\u001b[39;49m\u001b[39m\"\u001b[39;49m,\n\u001b[1;32m     <a href='file:///home/dappermink/Bureau/codes/TER/experiments/utils/solve.py?line=36'>37</a>\u001b[0m                 \u001b[39mformat\u001b[39;49m,\n\u001b[1;32m     <a href='file:///home/dappermink/Bureau/codes/TER/experiments/utils/solve.py?line=37'>38</a>\u001b[0m                 \u001b[39m*\u001b[39;49m([] \u001b[39mif\u001b[39;49;00m arg \u001b[39mis\u001b[39;49;00m \u001b[39mNone\u001b[39;49;00m \u001b[39melse\u001b[39;49;00m [\u001b[39m\"\u001b[39;49m\u001b[39m-a\u001b[39;49m\u001b[39m\"\u001b[39;49m, arg]),\n\u001b[1;32m     <a href='file:///home/dappermink/Bureau/codes/TER/experiments/utils/solve.py?line=38'>39</a>\u001b[0m                 \u001b[39m*\u001b[39;49m([] \u001b[39mif\u001b[39;49;00m solvers \u001b[39mis\u001b[39;49;00m \u001b[39mNone\u001b[39;49;00m \u001b[39melse\u001b[39;49;00m [\u001b[39m\"\u001b[39;49m\u001b[39m-s\u001b[39;49m\u001b[39m\"\u001b[39;49m, \u001b[39m\"\u001b[39;49m\u001b[39m,\u001b[39;49m\u001b[39m\"\u001b[39;49m\u001b[39m.\u001b[39;49mjoin(solvers)]),\n\u001b[1;32m     <a href='file:///home/dappermink/Bureau/codes/TER/experiments/utils/solve.py?line=39'>40</a>\u001b[0m                 \u001b[39m*\u001b[39;49mopt_flags,\n\u001b[1;32m     <a href='file:///home/dappermink/Bureau/codes/TER/experiments/utils/solve.py?line=40'>41</a>\u001b[0m             ],\n\u001b[1;32m     <a href='file:///home/dappermink/Bureau/codes/TER/experiments/utils/solve.py?line=41'>42</a>\u001b[0m             capture_output\u001b[39m=\u001b[39;49m\u001b[39mTrue\u001b[39;49;00m,\n\u001b[1;32m     <a href='file:///home/dappermink/Bureau/codes/TER/experiments/utils/solve.py?line=42'>43</a>\u001b[0m             text\u001b[39m=\u001b[39;49m\u001b[39mTrue\u001b[39;49;00m,\n\u001b[1;32m     <a href='file:///home/dappermink/Bureau/codes/TER/experiments/utils/solve.py?line=43'>44</a>\u001b[0m             timeout\u001b[39m=\u001b[39;49mtimeout,\n\u001b[1;32m     <a href='file:///home/dappermink/Bureau/codes/TER/experiments/utils/solve.py?line=44'>45</a>\u001b[0m         )\n\u001b[1;32m     <a href='file:///home/dappermink/Bureau/codes/TER/experiments/utils/solve.py?line=45'>46</a>\u001b[0m         \u001b[39mif\u001b[39;00m result\u001b[39m.\u001b[39mreturncode \u001b[39m!=\u001b[39m \u001b[39m0\u001b[39m:\n\u001b[1;32m     <a href='file:///home/dappermink/Bureau/codes/TER/experiments/utils/solve.py?line=46'>47</a>\u001b[0m             \u001b[39mraise\u001b[39;00m \u001b[39mException\u001b[39;00m(result\u001b[39m.\u001b[39mstderr)\n",
      "File \u001b[0;32m/usr/lib/python3.10/subprocess.py:503\u001b[0m, in \u001b[0;36mrun\u001b[0;34m(input, capture_output, timeout, check, *popenargs, **kwargs)\u001b[0m\n\u001b[1;32m    <a href='file:///usr/lib/python3.10/subprocess.py?line=500'>501</a>\u001b[0m \u001b[39mwith\u001b[39;00m Popen(\u001b[39m*\u001b[39mpopenargs, \u001b[39m*\u001b[39m\u001b[39m*\u001b[39mkwargs) \u001b[39mas\u001b[39;00m process:\n\u001b[1;32m    <a href='file:///usr/lib/python3.10/subprocess.py?line=501'>502</a>\u001b[0m     \u001b[39mtry\u001b[39;00m:\n\u001b[0;32m--> <a href='file:///usr/lib/python3.10/subprocess.py?line=502'>503</a>\u001b[0m         stdout, stderr \u001b[39m=\u001b[39m process\u001b[39m.\u001b[39;49mcommunicate(\u001b[39minput\u001b[39;49m, timeout\u001b[39m=\u001b[39;49mtimeout)\n\u001b[1;32m    <a href='file:///usr/lib/python3.10/subprocess.py?line=503'>504</a>\u001b[0m     \u001b[39mexcept\u001b[39;00m TimeoutExpired \u001b[39mas\u001b[39;00m exc:\n\u001b[1;32m    <a href='file:///usr/lib/python3.10/subprocess.py?line=504'>505</a>\u001b[0m         process\u001b[39m.\u001b[39mkill()\n",
      "File \u001b[0;32m/usr/lib/python3.10/subprocess.py:1149\u001b[0m, in \u001b[0;36mPopen.communicate\u001b[0;34m(self, input, timeout)\u001b[0m\n\u001b[1;32m   <a href='file:///usr/lib/python3.10/subprocess.py?line=1145'>1146</a>\u001b[0m     endtime \u001b[39m=\u001b[39m \u001b[39mNone\u001b[39;00m\n\u001b[1;32m   <a href='file:///usr/lib/python3.10/subprocess.py?line=1147'>1148</a>\u001b[0m \u001b[39mtry\u001b[39;00m:\n\u001b[0;32m-> <a href='file:///usr/lib/python3.10/subprocess.py?line=1148'>1149</a>\u001b[0m     stdout, stderr \u001b[39m=\u001b[39m \u001b[39mself\u001b[39;49m\u001b[39m.\u001b[39;49m_communicate(\u001b[39minput\u001b[39;49m, endtime, timeout)\n\u001b[1;32m   <a href='file:///usr/lib/python3.10/subprocess.py?line=1149'>1150</a>\u001b[0m \u001b[39mexcept\u001b[39;00m \u001b[39mKeyboardInterrupt\u001b[39;00m:\n\u001b[1;32m   <a href='file:///usr/lib/python3.10/subprocess.py?line=1150'>1151</a>\u001b[0m     \u001b[39m# https://bugs.python.org/issue25942\u001b[39;00m\n\u001b[1;32m   <a href='file:///usr/lib/python3.10/subprocess.py?line=1151'>1152</a>\u001b[0m     \u001b[39m# See the detailed comment in .wait().\u001b[39;00m\n\u001b[1;32m   <a href='file:///usr/lib/python3.10/subprocess.py?line=1152'>1153</a>\u001b[0m     \u001b[39mif\u001b[39;00m timeout \u001b[39mis\u001b[39;00m \u001b[39mnot\u001b[39;00m \u001b[39mNone\u001b[39;00m:\n",
      "File \u001b[0;32m/usr/lib/python3.10/subprocess.py:2000\u001b[0m, in \u001b[0;36mPopen._communicate\u001b[0;34m(self, input, endtime, orig_timeout)\u001b[0m\n\u001b[1;32m   <a href='file:///usr/lib/python3.10/subprocess.py?line=1992'>1993</a>\u001b[0m     \u001b[39mself\u001b[39m\u001b[39m.\u001b[39m_check_timeout(endtime, orig_timeout,\n\u001b[1;32m   <a href='file:///usr/lib/python3.10/subprocess.py?line=1993'>1994</a>\u001b[0m                         stdout, stderr,\n\u001b[1;32m   <a href='file:///usr/lib/python3.10/subprocess.py?line=1994'>1995</a>\u001b[0m                         skip_check_and_raise\u001b[39m=\u001b[39m\u001b[39mTrue\u001b[39;00m)\n\u001b[1;32m   <a href='file:///usr/lib/python3.10/subprocess.py?line=1995'>1996</a>\u001b[0m     \u001b[39mraise\u001b[39;00m \u001b[39mRuntimeError\u001b[39;00m(  \u001b[39m# Impossible :)\u001b[39;00m\n\u001b[1;32m   <a href='file:///usr/lib/python3.10/subprocess.py?line=1996'>1997</a>\u001b[0m         \u001b[39m'\u001b[39m\u001b[39m_check_timeout(..., skip_check_and_raise=True) \u001b[39m\u001b[39m'\u001b[39m\n\u001b[1;32m   <a href='file:///usr/lib/python3.10/subprocess.py?line=1997'>1998</a>\u001b[0m         \u001b[39m'\u001b[39m\u001b[39mfailed to raise TimeoutExpired.\u001b[39m\u001b[39m'\u001b[39m)\n\u001b[0;32m-> <a href='file:///usr/lib/python3.10/subprocess.py?line=1999'>2000</a>\u001b[0m ready \u001b[39m=\u001b[39m selector\u001b[39m.\u001b[39;49mselect(timeout)\n\u001b[1;32m   <a href='file:///usr/lib/python3.10/subprocess.py?line=2000'>2001</a>\u001b[0m \u001b[39mself\u001b[39m\u001b[39m.\u001b[39m_check_timeout(endtime, orig_timeout, stdout, stderr)\n\u001b[1;32m   <a href='file:///usr/lib/python3.10/subprocess.py?line=2002'>2003</a>\u001b[0m \u001b[39m# XXX Rewrite these to use non-blocking I/O on the file\u001b[39;00m\n\u001b[1;32m   <a href='file:///usr/lib/python3.10/subprocess.py?line=2003'>2004</a>\u001b[0m \u001b[39m# objects; they are no longer using C stdio!\u001b[39;00m\n",
      "File \u001b[0;32m/usr/lib/python3.10/selectors.py:416\u001b[0m, in \u001b[0;36m_PollLikeSelector.select\u001b[0;34m(self, timeout)\u001b[0m\n\u001b[1;32m    <a href='file:///usr/lib/python3.10/selectors.py?line=413'>414</a>\u001b[0m ready \u001b[39m=\u001b[39m []\n\u001b[1;32m    <a href='file:///usr/lib/python3.10/selectors.py?line=414'>415</a>\u001b[0m \u001b[39mtry\u001b[39;00m:\n\u001b[0;32m--> <a href='file:///usr/lib/python3.10/selectors.py?line=415'>416</a>\u001b[0m     fd_event_list \u001b[39m=\u001b[39m \u001b[39mself\u001b[39;49m\u001b[39m.\u001b[39;49m_selector\u001b[39m.\u001b[39;49mpoll(timeout)\n\u001b[1;32m    <a href='file:///usr/lib/python3.10/selectors.py?line=416'>417</a>\u001b[0m \u001b[39mexcept\u001b[39;00m \u001b[39mInterruptedError\u001b[39;00m:\n\u001b[1;32m    <a href='file:///usr/lib/python3.10/selectors.py?line=417'>418</a>\u001b[0m     \u001b[39mreturn\u001b[39;00m ready\n",
      "\u001b[0;31mKeyboardInterrupt\u001b[0m: "
     ]
    }
   ],
   "source": [
    "from utils.iccma.index import get_graphs\n",
    "from utils.benchmark.index import bench\n",
    "from utils.benchmark.export import Export\n",
    "from pathlib import Path\n",
    "\n",
    "export = Export(Path(\"results\"), \"pr\")\n",
    "\n",
    "for size in [\"small\", \"medium\", \"large\"]:\n",
    "    bench(\n",
    "        graphs=get_graphs([(\"scc\", size)]),\n",
    "        solvers=[\"manysat\", \"minisat\", \"glucose\"],\n",
    "        semantics=[\"PR\"],\n",
    "        tasks=[\"SE\"],\n",
    "        timeout=5 * 60,  # seconds\n",
    "        export=export,\n",
    "    )"
   ]
  },
  {
   "cell_type": "markdown",
   "metadata": {},
   "source": [
    "### Graph generation"
   ]
  },
  {
   "cell_type": "code",
   "execution_count": null,
   "metadata": {},
   "outputs": [],
   "source": [
    "from utils.gen.stable import gen as gen_stable\n",
    "from utils.gen.grounded import gen as gen_grounded\n",
    "from utils.gen.scc import gen as gen_scc\n",
    "\n",
    "g_stable = gen_stable(500, 100, 500, 100, 500, 100, 500, .6)\n",
    "g_stable.save(\"stable\")\n",
    "\n",
    "g_grounded = gen_grounded(500, .3)\n",
    "g_grounded.save(\"grounded\")\n",
    "\n",
    "# g_scc = gen_scc(500, 500, .6, .3, .4)\n",
    "# g_scc.save(\"scc\")"
   ]
  },
  {
   "cell_type": "markdown",
   "metadata": {},
   "source": [
    "### TODO"
   ]
  },
  {
   "cell_type": "code",
   "execution_count": null,
   "metadata": {},
   "outputs": [],
   "source": [
    "# bench(\n",
    "#     solvers=[\"manysat\", \"minisat\"],\n",
    "#     semantics=\"CO\",\n",
    "#     tasks=\"SE\",\n",
    "#     graphs=[(a, gen_grounded(a, .3)) for a in range(0, 10)],\n",
    "#     abs=\"max arg\",\n",
    "#     ord=\"time\",\n",
    "# )\n",
    "\n",
    "# SUPPOSED TO:\n",
    "# Générer une image d'un graphe pour manysat et un autre pour minisat\n",
    "# (les deux courbes sur le même graphique)\n",
    "# avec la sémanntique CO et la tâche SE\n",
    "# en abscisses: a\n",
    "# en ordonnées: le temps d'exécution pour résoudre gen_grounded(a, .3)\n",
    "# du coup il y aurait 10 points par courbe\n",
    "\n",
    "# AUTRE EXEMPLE\n",
    "# bench(\n",
    "#     solvers=[\"manysat\", \"minisat\"],\n",
    "#     semantics=\"CO\",\n",
    "#     tasks=\"SE\",\n",
    "#     graphs=[(count_arguments(file), file) for file in graph_files],\n",
    "#     abs=\"max arg\",\n",
    "#     ord=\"time\",\n",
    "# )"
   ]
  }
 ],
 "metadata": {
  "interpreter": {
   "hash": "1af74b6fd445b57231cb1f4d1d189312d2e0b5c21b4c5b7828a9afbf5c2ec803"
  },
  "kernelspec": {
   "display_name": "Python 3.10.2 64-bit",
   "language": "python",
   "name": "python3"
  },
  "language_info": {
   "codemirror_mode": {
    "name": "ipython",
    "version": 3
   },
   "file_extension": ".py",
   "mimetype": "text/x-python",
   "name": "python",
   "nbconvert_exporter": "python",
   "pygments_lexer": "ipython3",
   "version": "3.10.3"
  },
  "orig_nbformat": 4
 },
 "nbformat": 4,
 "nbformat_minor": 2
}
