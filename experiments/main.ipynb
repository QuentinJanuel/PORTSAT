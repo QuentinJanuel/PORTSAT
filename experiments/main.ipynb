{
 "cells": [
  {
   "cell_type": "markdown",
   "metadata": {},
   "source": [
    "# Argumentation framework"
   ]
  },
  {
   "cell_type": "markdown",
   "metadata": {},
   "source": [
    "### Unit testing"
   ]
  },
  {
   "cell_type": "code",
   "execution_count": null,
   "metadata": {},
   "outputs": [],
   "source": [
    "from utils.iccma.index import get_graphs\n",
    "from utils.test.index import test\n",
    "\n",
    "# Complete, stable and preferred\n",
    "test(\n",
    "    graphs=get_graphs([\"scc\", \"gr\", \"st\"]),\n",
    "    solvers=[\"manysat\", \"glucose\"],\n",
    "    semantics=[\"CO\", \"ST\", \"PR\"],\n",
    "    tasks=[\"SE\", \"EE\"],\n",
    "    timeout=1,  # seconds\n",
    ")\n",
    "\n",
    "# Grounded (must not set the solvers)\n",
    "test(\n",
    "    graphs=get_graphs([\"scc\", \"gr\", \"st\"]),\n",
    "    solvers=[],\n",
    "    semantics=[\"GR\"],\n",
    "    tasks=[\"SE\", \"EE\"],\n",
    "    timeout=1,  # seconds\n",
    ")"
   ]
  },
  {
   "cell_type": "markdown",
   "metadata": {},
   "source": [
    "### Benchmarking"
   ]
  },
  {
   "cell_type": "code",
   "execution_count": 3,
   "metadata": {},
   "outputs": [],
   "source": [
    "from utils.iccma.index import get_graphs\n",
    "from utils.benchmark.index import bench\n",
    "\n",
    "bench(\n",
    "    graphs=get_graphs([\"gr\"])[:2],\n",
    "    solvers=[\"manysat\", \"dpll\", \"minisat\"],\n",
    "    semantics=[\"CO\", \"ST\"],\n",
    "    tasks=[\"SE\", \"EE\"],\n",
    "    timeout=5,  # seconds\n",
    ")"
   ]
  },
  {
   "cell_type": "code",
   "execution_count": 4,
   "metadata": {},
   "outputs": [
    {
     "data": {
      "image/png": "[encoded data removed]",
      "text/plain": [
       "<Figure size 432x288 with 1 Axes>"
      ]
     },
     "metadata": {
      "needs_background": "light"
     },
     "output_type": "display_data"
    }
   ],
   "source": [
    "from utils.benchmark.index import display_graph\n",
    "\n",
    "display_graph(\"TEST1234.csv\")"
   ]
  },
  {
   "cell_type": "markdown",
   "metadata": {},
   "source": [
    "### Graph generation"
   ]
  },
  {
   "cell_type": "code",
   "execution_count": null,
   "metadata": {},
   "outputs": [],
   "source": [
    "from utils.gen.stable import gen as gen_stable\n",
    "from utils.gen.grounded import gen as gen_grounded\n",
    "from utils.gen.scc import gen as gen_scc\n",
    "\n",
    "g_stable = gen_stable(500, 100, 500, 100, 500, 100, 500, .6)\n",
    "g_stable.save(\"stable\")\n",
    "\n",
    "g_grounded = gen_grounded(500, .3)\n",
    "g_grounded.save(\"grounded\")\n",
    "\n",
    "g_scc = gen_scc(500, 500, .6, .3, .4)\n",
    "g_scc.save(\"scc\")"
   ]
  },
  {
   "cell_type": "markdown",
   "metadata": {},
   "source": [
    "### TODO"
   ]
  },
  {
   "cell_type": "code",
   "execution_count": null,
   "metadata": {},
   "outputs": [],
   "source": [
    "# bench(\n",
    "#     solvers=[\"manysat\", \"minisat\"],\n",
    "#     semantics=\"CO\",\n",
    "#     tasks=\"SE\",\n",
    "#     graphs=[(a, gen_grounded(a, .3)) for a in range(0, 10)],\n",
    "#     abs=\"max arg\",\n",
    "#     ord=\"time\",\n",
    "# )\n",
    "\n",
    "# SUPPOSED TO:\n",
    "# Générer une image d'un graphe pour manysat et un autre pour minisat\n",
    "# (les deux courbes sur le même graphique)\n",
    "# avec la sémanntique CO et la tâche SE\n",
    "# en abscisses: a\n",
    "# en ordonnées: le temps d'exécution pour résoudre gen_grounded(a, .3)\n",
    "# du coup il y aurait 10 points par courbe\n",
    "\n",
    "# AUTRE EXEMPLE\n",
    "# bench(\n",
    "#     solvers=[\"manysat\", \"minisat\"],\n",
    "#     semantics=\"CO\",\n",
    "#     tasks=\"SE\",\n",
    "#     graphs=[(count_arguments(file), file) for file in graph_files],\n",
    "#     abs=\"max arg\",\n",
    "#     ord=\"time\",\n",
    "# )"
   ]
  }
 ],
 "metadata": {
  "interpreter": {
   "hash": "1af74b6fd445b57231cb1f4d1d189312d2e0b5c21b4c5b7828a9afbf5c2ec803"
  },
  "kernelspec": {
   "display_name": "Python 3.10.2 64-bit",
   "language": "python",
   "name": "python3"
  },
  "language_info": {
   "codemirror_mode": {
    "name": "ipython",
    "version": 3
   },
   "file_extension": ".py",
   "mimetype": "text/x-python",
   "name": "python",
   "nbconvert_exporter": "python",
   "pygments_lexer": "ipython3",
   "version": "3.10.2"
  },
  "orig_nbformat": 4
 },
 "nbformat": 4,
 "nbformat_minor": 2
}
