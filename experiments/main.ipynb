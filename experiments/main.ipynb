{
 "cells": [
  {
   "cell_type": "markdown",
   "metadata": {},
   "source": [
    "# Argumentation framework"
   ]
  },
  {
   "cell_type": "markdown",
   "metadata": {},
   "source": [
    "### Random Generators "
   ]
  },
  {
   "cell_type": "code",
   "execution_count": 1,
   "metadata": {},
   "outputs": [],
   "source": [
    "import random as rd\n",
    "import time\n",
    "rd.seed(time.time())"
   ]
  },
  {
   "cell_type": "markdown",
   "metadata": {},
   "source": [
    "#### Grounded Generator"
   ]
  },
  {
   "cell_type": "code",
   "execution_count": 2,
   "metadata": {},
   "outputs": [],
   "source": [
    "\n",
    "def GR_gen(maxA,att_prob):\n",
    "    A = rd.randint(1, maxA)\n",
    "    V = list(range(1,A+1))\n",
    "    unconnected = list(range(1,A+1))\n",
    "    E = []\n",
    "    G=(V,E)\n",
    "    for i in range(A):\n",
    "        for j in range(i-1):\n",
    "            if (rd.random()<att_prob):\n",
    "                E.append((V[i],V[j]))\n",
    "                try:\n",
    "                    unconnected.remove(i+1)\n",
    "                except ValueError:\n",
    "                    continue\n",
    "    for b in unconnected:\n",
    "        k = rd.randint(0, A-1)\n",
    "        if (rd.randint(0, 1) == 0):\n",
    "            E.append((b,V[k]))\n",
    "        else:\n",
    "            E.append((V[k],b))\n",
    "    return G\n"
   ]
  },
  {
   "cell_type": "markdown",
   "metadata": {},
   "source": [
    "#### Stable Generator"
   ]
  },
  {
   "cell_type": "code",
   "execution_count": 3,
   "metadata": {},
   "outputs": [],
   "source": [
    "def randomSet(V,size):\n",
    "    Vcop = V.copy()\n",
    "    set = []\n",
    "    while(len(set) < size):\n",
    "        if Vcop == []:\n",
    "            return set\n",
    "        num = rd.randint(0,len(Vcop)-1)\n",
    "        set.append(Vcop[num])\n",
    "        del Vcop[num]\n",
    "    return set"
   ]
  },
  {
   "cell_type": "code",
   "execution_count": 4,
   "metadata": {},
   "outputs": [],
   "source": [
    "def ST_gen(maxA,minNE,maxNE,minSOE,maxSOE,minSOG,maxSOG,att_prob):\n",
    "    A = rd.randint(1, maxA)\n",
    "    X = rd.randint(minNE, maxNE)\n",
    "    S = rd.randint(minSOE, maxSOE)\n",
    "    R = rd.randint(minSOG, maxSOG)\n",
    "    V = list(range(1,A+1))\n",
    "    E = []\n",
    "    G=(V,E)\n",
    "    grounded = list(range(1,R+1))\n",
    "    for i in range(1,R+1):\n",
    "        for k in range (i):\n",
    "            if (rd.random()<att_prob):\n",
    "                E.append((V[i-1],V[k]))\n",
    "    for j in range (1,X+1):\n",
    "        M = randomSet(V,S)\n",
    "        for i in range(R+1,A+1):\n",
    "            if not V[i-1] in M:\n",
    "                ak = M[rd.randint(0,len(M)-1)]\n",
    "                E.append((ak,V[i-1]))\n",
    "    return G"
   ]
  },
  {
   "cell_type": "code",
   "execution_count": 5,
   "metadata": {},
   "outputs": [],
   "source": [
    "def tofile(G,filename):\n",
    "    with open(filename,\"w\") as writer:\n",
    "        for a in G[0]:\n",
    "            writer.write(f\"{a}\\n\")\n",
    "        writer.write(\"#\\n\")\n",
    "        for t in G[1]:\n",
    "            writer.write(f\"{t[0]} {t[1]}\\n\")\n"
   ]
  },
  {
   "cell_type": "code",
   "execution_count": 6,
   "metadata": {},
   "outputs": [],
   "source": [
    "import os\n",
    "from pathlib import Path\n",
    "import subprocess\n",
    "\n",
    "def solve(input: str, problem: str, arg: str = None, solvers: list[str] = None):\n",
    "    exe = Path().joinpath(\n",
    "        os.getcwd(),\n",
    "        \"..\",\n",
    "        \"target\",\n",
    "        \"release\",\n",
    "        \"ter.exe\",\n",
    "    ).resolve()\n",
    "    result = subprocess.run(\n",
    "        [\n",
    "            exe,\n",
    "            \"-p\",\n",
    "            problem,\n",
    "            \"-f\",\n",
    "            input,\n",
    "            *([] if arg is None else [\"-a\", arg]),\n",
    "            *([] if solvers is None else [\"-s\", \",\".join(solvers)]),\n",
    "        ],\n",
    "        capture_output=True,\n",
    "        text=True,\n",
    "    )\n",
    "    if result.returncode != 0:\n",
    "        raise Exception(result.stderr)\n",
    "    return result.stdout"
   ]
  },
  {
   "cell_type": "code",
   "execution_count": 7,
   "metadata": {},
   "outputs": [
    {
     "name": "stdout",
     "output_type": "stream",
     "text": [
      "[1,4,6]\n",
      "\n"
     ]
    }
   ],
   "source": [
    "print(solve(\"../examples/tgf.txt\", \"SE-CO\", solvers=[\"dpll\", \"minisat\"]))"
   ]
  },
  {
   "cell_type": "code",
   "execution_count": 8,
   "metadata": {},
   "outputs": [
    {
     "name": "stdout",
     "output_type": "stream",
     "text": [
      "[[1],[4,6,1],[1,3]]\n",
      "\n"
     ]
    }
   ],
   "source": [
    "print(solve(\"../examples/tgf.txt\", \"EE-CO\"))"
   ]
  },
  {
   "cell_type": "code",
   "execution_count": 9,
   "metadata": {},
   "outputs": [
    {
     "name": "stdout",
     "output_type": "stream",
     "text": [
      "YES\n",
      "\n"
     ]
    }
   ],
   "source": [
    "print(solve(\"../examples/tgf.txt\", \"DC-CO\", arg=\"1\", solvers=[\"manysat\"]))"
   ]
  },
  {
   "cell_type": "code",
   "execution_count": 10,
   "metadata": {},
   "outputs": [
    {
     "name": "stdout",
     "output_type": "stream",
     "text": [
      "YES\n",
      "\n"
     ]
    }
   ],
   "source": [
    "print(solve(\"../examples/tgf.txt\", \"DC-CO\", arg=\"3\"))"
   ]
  },
  {
   "cell_type": "code",
   "execution_count": 11,
   "metadata": {},
   "outputs": [
    {
     "name": "stdout",
     "output_type": "stream",
     "text": [
      "YES\n",
      "\n"
     ]
    }
   ],
   "source": [
    "print(solve(\"../examples/tgf.txt\", \"DS-CO\", arg=\"1\"))"
   ]
  },
  {
   "cell_type": "code",
   "execution_count": 12,
   "metadata": {},
   "outputs": [
    {
     "name": "stdout",
     "output_type": "stream",
     "text": [
      "NO\n",
      "\n"
     ]
    }
   ],
   "source": [
    "print(solve(\"../examples/tgf.txt\", \"DS-CO\", arg=\"3\"))"
   ]
  },
  {
   "cell_type": "code",
   "execution_count": 25,
   "metadata": {},
   "outputs": [],
   "source": [
    "G1 = GR_gen(500,.3)"
   ]
  },
  {
   "cell_type": "code",
   "execution_count": 14,
   "metadata": {},
   "outputs": [],
   "source": [
    "G2 = ST_gen(100,0,10,0,10,0,10,.3)"
   ]
  },
  {
   "cell_type": "code",
   "execution_count": 26,
   "metadata": {},
   "outputs": [],
   "source": [
    "tofile(G1,\"test.txt\")"
   ]
  },
  {
   "cell_type": "code",
   "execution_count": 27,
   "metadata": {},
   "outputs": [
    {
     "name": "stdout",
     "output_type": "stream",
     "text": [
      "[479,465,463,422,462,395,324,269,474,414,464,477,480,49]\n",
      "\n"
     ]
    }
   ],
   "source": [
    "print(solve(\"test.txt\", \"SE-CO\", solvers=[\"dpll\", \"minisat\"]))"
   ]
  },
  {
   "cell_type": "code",
   "execution_count": 28,
   "metadata": {},
   "outputs": [
    {
     "name": "stdout",
     "output_type": "stream",
     "text": [
      "[477,479,463,480,465,422,474,462,414,395,324,269,464,49]\n",
      "\n"
     ]
    }
   ],
   "source": [
    "print(solve(\"test.txt\", \"SE-CO\", solvers=[\"dpll\"]))"
   ]
  },
  {
   "cell_type": "code",
   "execution_count": 29,
   "metadata": {},
   "outputs": [
    {
     "name": "stdout",
     "output_type": "stream",
     "text": [
      "[464,479,324,480,474,465,269,463,477,49,462,395,422,414]\n",
      "\n"
     ]
    }
   ],
   "source": [
    "print(solve(\"test.txt\", \"SE-CO\", solvers=[\"minisat\"]))"
   ]
  }
 ],
 "metadata": {
  "interpreter": {
   "hash": "1af74b6fd445b57231cb1f4d1d189312d2e0b5c21b4c5b7828a9afbf5c2ec803"
  },
  "kernelspec": {
   "display_name": "Python 3.10.2 64-bit",
   "language": "python",
   "name": "python3"
  },
  "language_info": {
   "codemirror_mode": {
    "name": "ipython",
    "version": 3
   },
   "file_extension": ".py",
   "mimetype": "text/x-python",
   "name": "python",
   "nbconvert_exporter": "python",
   "pygments_lexer": "ipython3",
   "version": "3.9.1"
  },
  "orig_nbformat": 4
 },
 "nbformat": 4,
 "nbformat_minor": 2
}
