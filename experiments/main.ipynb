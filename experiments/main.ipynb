{
 "cells": [
  {
   "cell_type": "markdown",
   "metadata": {},
   "source": [
    "# Argumentation framework"
   ]
  },
  {
   "cell_type": "code",
   "execution_count": null,
   "metadata": {},
   "outputs": [],
   "source": [
    "from utils.test.index import get_testers\n",
    "from utils.test.tester import test\n",
    "\n",
    "\n",
    "if test(\n",
    "    testers=get_testers(types=[\"gr\"]),\n",
    "    solvers=[\"manysat\"],\n",
    "    semantics=[\"CO\", \"ST\"],\n",
    "    tasks=[\"SE\", \"EE\"],\n",
    "):\n",
    "    print(\"OK\")"
   ]
  },
  {
   "cell_type": "code",
   "execution_count": null,
   "metadata": {},
   "outputs": [],
   "source": [
    "# from utils.gen.stable import gen as gen_stable\n",
    "from utils.gen.grounded import gen as gen_grounded\n",
    "\n",
    "# g_stable = gen_stable(10000, 100, 1000, 100, 1000, 100, 1000, .6)\n",
    "# g_stable.save(\"stable.txt\")\n",
    "\n",
    "g_grounded = gen_grounded(500, .3)\n",
    "g_grounded.save(\"grounded\")"
   ]
  },
  {
   "cell_type": "code",
   "execution_count": null,
   "metadata": {},
   "outputs": [],
   "source": [
    "from utils.solve import solve\n",
    "from utils.benchmark import benchmark\n",
    "from utils.reprandom import rr\n",
    "from pathlib import Path\n",
    "\n",
    "rep = 10\n",
    "\n",
    "solvers = [\"dpll\", \"minisat\", \"manysat\", \"glucose\"]\n",
    "\n",
    "times = {}\n",
    "\n",
    "for solver in solvers:\n",
    "    times[solver] = 0\n",
    "\n",
    "problems = []\n",
    "for _ in range(rep):\n",
    "    for solver in solvers:\n",
    "        problems.append(solver)\n",
    "\n",
    "sorted(problems, key = lambda _: rr.random())\n",
    "\n",
    "for problem in problems:\n",
    "    times[problem] += benchmark(\n",
    "        solve,\n",
    "        Path.cwd().joinpath(\"graph\", \"grounded.tgf\"),\n",
    "        \"SE-ST\",\n",
    "        solvers=[problem],\n",
    "    )\n",
    "\n",
    "for solver in solvers:\n",
    "    times[solver] /= rep\n",
    "\n",
    "times"
   ]
  }
 ],
 "metadata": {
  "interpreter": {
   "hash": "1af74b6fd445b57231cb1f4d1d189312d2e0b5c21b4c5b7828a9afbf5c2ec803"
  },
  "kernelspec": {
   "display_name": "Python 3.10.2 64-bit",
   "language": "python",
   "name": "python3"
  },
  "language_info": {
   "codemirror_mode": {
    "name": "ipython",
    "version": 3
   },
   "file_extension": ".py",
   "mimetype": "text/x-python",
   "name": "python",
   "nbconvert_exporter": "python",
   "pygments_lexer": "ipython3",
   "version": "3.10.2"
  },
  "orig_nbformat": 4
 },
 "nbformat": 4,
 "nbformat_minor": 2
}
