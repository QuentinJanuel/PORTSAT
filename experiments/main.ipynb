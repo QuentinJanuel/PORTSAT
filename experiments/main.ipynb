{
 "cells": [
  {
   "cell_type": "markdown",
   "metadata": {},
   "source": [
    "# Argumentation framework"
   ]
  },
  {
   "cell_type": "markdown",
   "metadata": {},
   "source": [
    "### Unit testing"
   ]
  },
  {
   "cell_type": "code",
   "execution_count": null,
   "metadata": {},
   "outputs": [],
   "source": [
    "from utils.iccma.index import get_graphs\n",
    "from utils.test.index import test\n",
    "\n",
    "TESTING = False\n",
    "\n",
    "if TESTING:\n",
    "    graphs = get_graphs([\n",
    "        (\"scc\", \"small\"),\n",
    "        (\"gr\", \"small\"),\n",
    "        (\"st\", \"small\"),\n",
    "    ])\n",
    "    # Complete, stable and preferred\n",
    "    test(\n",
    "        graphs=graphs,\n",
    "        solvers=[\"minisat\", \"manysat\", \"maplesat\", \"glucose\"],\n",
    "        semantics=[\"CO\", \"ST\", \"PR\"],\n",
    "        tasks=[\"SE\", \"EE\"],\n",
    "        timeout=100,  # seconds\n",
    "    )\n",
    "    # Grounded (must not set the solvers)\n",
    "    test(\n",
    "        graphs=graphs,\n",
    "        solvers=[],\n",
    "        semantics=[\"GR\"],\n",
    "        tasks=[\"SE\", \"EE\"],\n",
    "        timeout=1,  # seconds\n",
    "    )\n",
    "else:\n",
    "    print(\"Skipped testing\")"
   ]
  },
  {
   "cell_type": "markdown",
   "metadata": {},
   "source": [
    "### Benchmarking"
   ]
  },
  {
   "cell_type": "code",
   "execution_count": 1,
   "metadata": {},
   "outputs": [
    {
     "name": "stdout",
     "output_type": "stream",
     "text": [
      "Initialised _ReproducibleRandom with seed 164854496363\n",
      "100%          \n",
      "100%          \n",
      "100%          \n"
     ]
    }
   ],
   "source": [
    "from utils.iccma.index import get_graphs\n",
    "from utils.iccma.type import GraphType, Size\n",
    "from utils.benchmark.index import bench\n",
    "from utils.benchmark.export import Export\n",
    "from pathlib import Path\n",
    "from typing import List\n",
    "\n",
    "export = Export(Path(\"results\"), \"st\")\n",
    "sizes: List[Size] = [\"small\", \"medium\", \"large\"]\n",
    "\n",
    "for size in sizes:\n",
    "    bench(\n",
    "        graphs=get_graphs([(\"scc\", size)]),\n",
    "        solvers=[\"minisat\", \"manysat\", \"maplesat\", \"glucose\"],\n",
    "        semantics=[\"ST\"],\n",
    "        tasks=[\"EE\"],\n",
    "        timeout=5 * 60,  # seconds\n",
    "        export=export,\n",
    "    )"
   ]
  },
  {
   "cell_type": "markdown",
   "metadata": {},
   "source": [
    "### Graph generation"
   ]
  },
  {
   "cell_type": "code",
   "execution_count": null,
   "metadata": {},
   "outputs": [],
   "source": [
    "from utils.gen.stable import gen as gen_stable\n",
    "from utils.gen.grounded import gen as gen_grounded\n",
    "# from utils.gen.scc import gen as gen_scc\n",
    "\n",
    "g_stable = gen_stable(500, 100, 500, 100, 500, 100, 500, .6)\n",
    "g_stable.save(\"stable\")\n",
    "\n",
    "g_grounded = gen_grounded(500, .3)\n",
    "g_grounded.save(\"grounded\")\n",
    "\n",
    "# g_scc = gen_scc(500, 500, .6, .3, .4)\n",
    "# g_scc.save(\"scc\")"
   ]
  },
  {
   "cell_type": "code",
   "execution_count": null,
   "metadata": {},
   "outputs": [],
   "source": [
    "import networkx as nx\n",
    "from utils.graph import Graph\n",
    "\n",
    "nx_graph = nx.Graph()\n",
    "nx_graph.add_nodes_from(\"hello\")\n",
    "nx_graph.add_edge(\"h\", \"e\")\n",
    "\n",
    "graph = Graph.from_networkx(nx_graph)\n",
    "graph.save(\"networkx\")\n",
    "\n",
    "graph2 = Graph.from_networkx(nx.Graph(nx.binomial_tree(4)))\n",
    "graph2.save(\"bitree\")\n"
   ]
  },
  {
   "cell_type": "markdown",
   "metadata": {},
   "source": [
    "### TODO"
   ]
  },
  {
   "cell_type": "code",
   "execution_count": 1,
   "metadata": {},
   "outputs": [
    {
     "name": "stdout",
     "output_type": "stream",
     "text": [
      "EE-ST\n",
      "C:\\Users\\quent\\AppData\\Local\\Temp\\tmppstpn213\\get_arg.tgf\n",
      "[['a59', 'a9', 'a69', 'a91', 'a2', 'a131', 'a111', 'a31', 'a57', 'a27', 'a96', 'a45', 'a67', 'a6', 'a14', 'a5', 'a44', 'a25', 'a65', 'a128', 'a30', 'a52', 'a53', 'a99', 'a75', 'a7', 'a3', 'a79', 'a56', 'a10', 'a16', 'a48', 'a83', 'a21', 'a37', 'a101', 'a54', 'a103', 'a35', 'a85', 'a11', 'a88', 'a20', 'a50', 'a107'], ['a25', 'a128', 'a67', 'a75', 'a31', 'a20', 'a50', 'a2', 'a30', 'a101', 'a54', 'a45', 'a96', 'a3', 'a56', 'a37', 'a48', 'a65', 'a69', 'a59', 'a52', 'a28', 'a6', 'a44', 'a83', 'a5', 'a21', 'a10', 'a85', 'a57', 'a103', 'a91', 'a9', 'a107', 'a111', 'a14', 'a79', 'a11', 'a35', 'a53', 'a88', 'a7', 'a16', 'a136'], ['a28', 'a10', 'a107', 'a56', 'a31', 'a9', 'a16', 'a44', 'a54', 'a69', 'a96', 'a101', 'a67', 'a53', 'a25', 'a83', 'a65', 'a35', 'a11', 'a48', 'a57', 'a5', 'a21', 'a30', 'a3', 'a20', 'a7', 'a45', 'a50', 'a37', 'a13', 'a91', 'a103', 'a75', 'a85', 'a128', 'a52', 'a136', 'a79', 'a2', 'a6', 'a59', 'a62'], ['a67', 'a56', 'a83', 'a2', 'a62', 'a96', 'a45', 'a31', 'a25', 'a11', 'a50', 'a9', 'a131', 'a35', 'a99', 'a30', 'a91', 'a20', 'a79', 'a48', 'a107', 'a3', 'a85', 'a37', 'a75', 'a54', 'a13', 'a65', 'a128', 'a44', 'a59', 'a69', 'a16', 'a27', 'a57', 'a6', 'a103', 'a21', 'a5', 'a10', 'a101', 'a53', 'a7', 'a52'], ['a54', 'a37', 'a2', 'a16', 'a59', 'a25', 'a89', 'a5', 'a56', 'a99', 'a6', 'a101', 'a57', 'a103', 'a85', 'a3', 'a10', 'a50', 'a107', 'a67', 'a45', 'a96', 'a48', 'a128', 'a30', 'a74', 'a27', 'a52', 'a32', 'a131', 'a13', 'a44', 'a79', 'a8', 'a65', 'a9', 'a69', 'a35', 'a21', 'a20', 'a11', 'a53'], ['a3', 'a16', 'a2', 'a96', 'a11', 'a5', 'a57', 'a44', 'a32', 'a79', 'a89', 'a25', 'a54', 'a14', 'a8', 'a74', 'a30', 'a50', 'a111', 'a56', 'a21', 'a45', 'a99', 'a52', 'a131', 'a48', 'a128', 'a53', 'a67', 'a101', 'a69', 'a37', 'a85', 'a35', 'a59', 'a20', 'a107', 'a103', 'a65', 'a10', 'a9', 'a27', 'a6'], ['a45', 'a65', 'a32', 'a54', 'a107', 'a57', 'a10', 'a3', 'a6', 'a25', 'a28', 'a52', 'a16', 'a59', 'a103', 'a79', 'a85', 'a21', 'a44', 'a5', 'a53', 'a136', 'a74', 'a2', 'a96', 'a14', 'a35', 'a8', 'a11', 'a50', 'a20', 'a128', 'a9', 'a56', 'a111', 'a48', 'a69', 'a30', 'a37', 'a101', 'a67'], ['a37', 'a45', 'a16', 'a103', 'a11', 'a48', 'a85', 'a21', 'a28', 'a107', 'a8', 'a32', 'a35', 'a56', 'a50', 'a9', 'a67', 'a5', 'a44', 'a57', 'a96', 'a53', 'a136', 'a13', 'a30', 'a10', 'a59', 'a128', 'a65', 'a54', 'a79', 'a69', 'a6', 'a2', 'a101', 'a3', 'a74', 'a52', 'a20', 'a25'], ['a21', 'a53', 'a25', 'a30', 'a52', 'a136', 'a6', 'a54', 'a85', 'a74', 'a11', 'a56', 'a10', 'a69', 'a67', 'a2', 'a96', 'a59', 'a5', 'a57', 'a50', 'a8', 'a9', 'a80', 'a13', 'a65', 'a107', 'a32', 'a20', 'a101', 'a16', 'a77', 'a128', 'a44', 'a37', 'a35', 'a48', 'a3', 'a45', 'a103', 'a28'], ['a21', 'a54', 'a59', 'a10', 'a45', 'a48', 'a5', 'a25', 'a96', 'a13', 'a32', 'a8', 'a74', 'a85', 'a9', 'a89', 'a99', 'a30', 'a35', 'a131', 'a3', 'a67', 'a2', 'a101', 'a20', 'a53', 'a80', 'a50', 'a56', 'a77', 'a11', 'a44', 'a6', 'a107', 'a103', 'a65', 'a128', 'a52', 'a37', 'a57', 'a69', 'a27', 'a16'], ['a9', 'a54', 'a45', 'a59', 'a25', 'a56', 'a8', 'a68', 'a67', 'a82', 'a6', 'a13', 'a89', 'a78', 'a32', 'a69', 'a131', 'a12', 'a43', 'a3', 'a2', 'a52', 'a37', 'a36', 'a30', 'a133', 'a107', 'a44', 'a5', 'a81', 'a85', 'a50', 'a65', 'a137', 'a99', 'a103', 'a77', 'a74', 'a27', 'a21', 'a53', 'a61', 'a20', 'a33', 'a80', 'a48', 'a16'], ['a65', 'a25', 'a56', 'a13', 'a52', 'a16', 'a20', 'a37', 'a54', 'a85', 'a77', 'a81', 'a50', 'a8', 'a133', 'a61', 'a80', 'a68', 'a45', 'a103', 'a78', 'a5', 'a48', 'a36', 'a44', 'a137', 'a32', 'a43', 'a6', 'a12', 'a69', 'a3', 'a82', 'a30', 'a53', 'a74', 'a67', 'a2', 'a21', 'a9', 'a59', 'a33', 'a107', 'a28'], ['a1', 'a31', 'a90', 'a101', 'a67', 'a137', 'a36', 'a42', 'a30', 'a25', 'a0', 'a21', 'a9', 'a37', 'a81', 'a43', 'a69', 'a78', 'a5', 'a28', 'a83', 'a103', 'a51', 'a61', 'a48', 'a13', 'a24', 'a77', 'a7', 'a6', 'a56', 'a45', 'a20', 'a12', 'a53', 'a3', 'a107', 'a65', 'a54', 'a133', 'a16', 'a59'], ['a16', 'a61', 'a77', 'a45', 'a6', 'a27', 'a51', 'a0', 'a1', 'a25', 'a54', 'a99', 'a30', 'a31', 'a59', 'a20', 'a48', 'a9', 'a53', 'a42', 'a7', 'a137', 'a3', 'a131', 'a103', 'a78', 'a12', 'a81', 'a83', 'a65', 'a133', 'a24', 'a101', 'a36', 'a37', 'a43', 'a56', 'a5', 'a21', 'a69', 'a67', 'a107', 'a13', 'a90'], ['a90', 'a107', 'a11', 'a5', 'a59', 'a3', 'a77', 'a56', 'a57', 'a65', 'a67', 'a10', 'a9', 'a20', 'a99', 'a6', 'a25', 'a21', 'a16', 'a35', 'a1', 'a42', 'a45', 'a103', 'a83', 'a0', 'a54', 'a30', 'a7', 'a13', 'a24', 'a48', 'a31', 'a69', 'a101', 'a131', 'a53', 'a27', 'a51', 'a37'], ['a20', 'a69', 'a136', 'a59', 'a101', 'a51', 'a67', 'a25', 'a6', 'a77', 'a24', 'a5', 'a11', 'a16', 'a45', 'a9', 'a37', 'a31', 'a13', 'a30', 'a21', 'a83', 'a3', 'a35', 'a54', 'a0', 'a53', 'a90', 'a48', 'a103', 'a42', 'a56', 'a57', 'a10', 'a7', 'a1', 'a65', 'a107', 'a28'], ['a21', 'a2', 'a85', 'a68', 'a107', 'a12', 'a25', 'a52', 'a48', 'a128', 'a78', 'a91', 'a101', 'a20', 'a31', 'a69', 'a83', 'a7', 'a5', 'a59', 'a44', 'a62', 'a56', 'a53', 'a54', 'a28', 'a75', 'a6', 'a30', 'a16', 'a37', 'a13', 'a80', 'a36', 'a137', 'a82', 'a81', 'a67', 'a50', 'a3', 'a43', 'a45', 'a103', 'a65', 'a9', 'a77', 'a133'], ['a50', 'a16', 'a30', 'a10', 'a91', 'a77', 'a107', 'a48', 'a44', 'a69', 'a56', 'a2', 'a45', 'a103', 'a96', 'a35', 'a67', 'a57', 'a85', 'a53', 'a28', 'a80', 'a37', 'a83', 'a6', 'a20', 'a5', 'a21', 'a25', 'a136', 'a62', 'a75', 'a9', 'a3', 'a59', 'a7', 'a101', 'a13', 'a128', 'a31', 'a65', 'a52', 'a54', 'a11'], ['a31', 'a53', 'a27', 'a75', 'a16', 'a6', 'a11', 'a50', 'a25', 'a35', 'a101', 'a65', 'a21', 'a128', 'a80', 'a20', 'a83', 'a2', 'a3', 'a69', 'a62', 'a7', 'a52', 'a56', 'a131', 'a77', 'a9', 'a107', 'a45', 'a44', 'a13', 'a96', 'a37', 'a54', 'a10', 'a85', 'a57', 'a103', 'a99', 'a48', 'a30', 'a59', 'a91', 'a67', 'a5'], ['a77', 'a103', 'a3', 'a44', 'a62', 'a20', 'a48', 'a5', 'a69', 'a85', 'a128', 'a99', 'a53', 'a54', 'a65', 'a37', 'a25', 'a75', 'a9', 'a27', 'a82', 'a30', 'a131', 'a56', 'a80', 'a101', 'a137', 'a36', 'a13', 'a6', 'a107', 'a133', 'a21', 'a2', 'a52', 'a12', 'a16', 'a45', 'a59', 'a68', 'a67', 'a78', 'a31', 'a91', 'a7', 'a83', 'a50', 'a81', 'a43'], ['a12', 'a67', 'a2', 'a82', 'a52', 'a103', 'a9', 'a69', 'a77', 'a53', 'a7', 'a85', 'a6', 'a30', 'a45', 'a36', 'a20', 'a43', 'a137', 'a68', 'a25', 'a88', 'a14', 'a91', 'a48', 'a5', 'a99', 'a81', 'a3', 'a107', 'a80', 'a131', 'a56', 'a101', 'a111', 'a44', 'a106', 'a75', 'a31', 'a128', 'a61', 'a16', 'a37', 'a78', 'a54', 'a65', 'a83', 'a50', 'a59', 'a27', 'a21'], ['a59', 'a9', 'a10', 'a14', 'a80', 'a16', 'a44', 'a50', 'a6', 'a11', 'a5', 'a27', 'a69', 'a101', 'a131', 'a77', 'a88', 'a48', 'a107', 'a25', 'a96', 'a45', 'a35', 'a3', 'a103', 'a53', 'a67', 'a85', 'a30', 'a37', 'a21', 'a7', 'a75', 'a91', 'a31', 'a111', 'a83', 'a128', 'a99', 'a52', 'a56', 'a54', 'a57', 'a2', 'a20', 'a65'], ['a96', 'a80', 'a16', 'a69', 'a31', 'a57', 'a20', 'a5', 'a53', 'a52', 'a10', 'a3', 'a7', 'a44', 'a45', 'a50', 'a35', 'a6', 'a88', 'a21', 'a103', 'a128', 'a75', 'a77', 'a67', 'a9', 'a101', 'a65', 'a111', 'a136', 'a11', 'a56', 'a91', 'a48', 'a85', 'a54', 'a30', 'a59', 'a25', 'a37', 'a107', 'a14', 'a2', 'a28', 'a83'], ['a48', 'a78', 'a36', 'a61', 'a28', 'a128', 'a37', 'a69', 'a25', 'a7', 'a68', 'a80', 'a106', 'a88', 'a5', 'a9', 'a12', 'a101', 'a43', 'a52', 'a82', 'a50', 'a6', 'a45', 'a31', 'a59', 'a21', 'a81', 'a20', 'a65', 'a75', 'a77', 'a56', 'a3', 'a107', 'a54', 'a103', 'a44', 'a53', 'a16', 'a14', 'a83', 'a30', 'a2', 'a67', 'a85', 'a137', 'a91', 'a111'], ['a42', 'a90', 'a137', 'a61', 'a45', 'a69', 'a59', 'a53', 'a88', 'a37', 'a28', 'a78', 'a1', 'a111', 'a7', 'a54', 'a50', 'a6', 'a21', 'a31', 'a20', 'a9', 'a101', 'a81', 'a24', 'a103', 'a3', 'a77', 'a67', 'a14', 'a65', 'a106', 'a30', 'a5', 'a12', 'a43', 'a25', 'a48', 'a56', 'a83', 'a36', 'a0', 'a107', 'a16'], ['a45', 'a54', 'a69', 'a137', 'a5', 'a25', 'a53', 'a43', 'a103', 'a9', 'a111', 'a0', 'a36', 'a7', 'a42', 'a59', 'a106', 'a67', 'a21', 'a1', 'a16', 'a107', 'a27', 'a77', 'a131', 'a83', 'a20', 'a14', 'a56', 'a90', 'a30', 'a37', 'a81', 'a31', 'a88', 'a61', 'a65', 'a78', 'a24', 'a12', 'a3', 'a101', 'a48', 'a50', 'a99', 'a6'], ['a10', 'a99', 'a131', 'a30', 'a27', 'a88', 'a107', 'a56', 'a48', 'a67', 'a59', 'a42', 'a37', 'a31', 'a57', 'a20', 'a0', 'a11', 'a83', 'a9', 'a35', 'a1', 'a50', 'a69', 'a21', 'a14', 'a25', 'a24', 'a65', 'a16', 'a5', 'a101', 'a111', 'a53', 'a3', 'a103', 'a7', 'a90', 'a54', 'a77', 'a45', 'a6'], ['a48', 'a50', 'a56', 'a30', 'a57', 'a42', 'a16', 'a88', 'a0', 'a67', 'a69', 'a20', 'a6', 'a1', 'a53', 'a65', 'a28', 'a14', 'a5', 'a90', 'a31', 'a45', 'a103', 'a77', 'a3', 'a35', 'a24', 'a136', 'a9', 'a25', 'a54', 'a111', 'a11', 'a37', 'a107', 'a101', 'a21', 'a10', 'a59', 'a83', 'a7'], ['a103', 'a96', 'a10', 'a59', 'a74', 'a6', 'a52', 'a80', 'a9', 'a107', 'a56', 'a101', 'a11', 'a30', 'a111', 'a28', 'a128', 'a45', 'a32', 'a5', 'a25', 'a136', 'a21', 'a16', 'a48', 'a77', 'a3', 'a44', 'a65', 'a2', 'a35', 'a37', 'a69', 'a8', 'a53', 'a20', 'a85', 'a54', 'a57', 'a14', 'a67', 'a50'], ['a50', 'a96', 'a20', 'a99', 'a48', 'a32', 'a6', 'a57', 'a11', 'a103', 'a101', 'a21', 'a80', 'a89', 'a5', 'a131', 'a8', 'a30', 'a107', 'a27', 'a35', 'a10', 'a56', 'a74', 'a65', 'a85', 'a111', 'a37', 'a67', 'a16', 'a77', 'a9', 'a45', 'a59', 'a44', 'a52', 'a69', 'a2', 'a25', 'a14', 'a128', 'a3', 'a53', 'a54'], ['a16', 'a44', 'a30', 'a33', 'a67', 'a80', 'a137', 'a111', 'a21', 'a12', 'a43', 'a68', 'a36', 'a103', 'a77', 'a27', 'a89', 'a65', 'a2', 'a20', 'a107', 'a14', 'a37', 'a50', 'a6', 'a74', 'a52', 'a32', 'a78', 'a3', 'a85', 'a45', 'a61', 'a131', 'a106', 'a48', 'a5', 'a53', 'a81', 'a99', 'a9', 'a56', 'a59', 'a69', 'a25', 'a54', 'a8', 'a82'], ['a50', 'a65', 'a85', 'a74', 'a80', 'a69', 'a78', 'a2', 'a3', 'a28', 'a21', 'a9', 'a6', 'a8', 'a48', 'a61', 'a53', 'a37', 'a107', 'a67', 'a54', 'a52', 'a5', 'a43', 'a111', 'a25', 'a56', 'a16', 'a68', 'a30', 'a45', 'a103', 'a106', 'a77', 'a59', 'a82', 'a14', 'a137', 'a44', 'a20', 'a81', 'a32', 'a33', 'a12', 'a36']]\n"
     ]
    },
    {
     "data": {
      "text/plain": [
       "'a77'"
      ]
     },
     "execution_count": 1,
     "metadata": {},
     "output_type": "execute_result"
    }
   ],
   "source": [
    "from utils.iccma.index import get_graphs\n",
    "from utils.graph import Graph\n",
    "\n",
    "\n",
    "iccma_graphs = get_graphs([(\"st\", \"small\")])\n",
    "graph = Graph.from_iccma_graph(iccma_graphs[0])\n",
    "graph.get_non_cred_arg(\"ST\")"
   ]
  },
  {
   "cell_type": "code",
   "execution_count": null,
   "metadata": {},
   "outputs": [],
   "source": [
    "# bench(\n",
    "#     solvers=[\"manysat\", \"minisat\"],\n",
    "#     semantics=\"CO\",\n",
    "#     tasks=\"SE\",\n",
    "#     graphs=[(a, gen_grounded(a, .3)) for a in range(0, 10)],\n",
    "#     abs=\"max arg\",\n",
    "#     ord=\"time\",\n",
    "# )\n",
    "\n",
    "# SUPPOSED TO:\n",
    "# Générer une image d'un graphe pour manysat et un autre pour minisat\n",
    "# (les deux courbes sur le même graphique)\n",
    "# avec la sémanntique CO et la tâche SE\n",
    "# en abscisses: a\n",
    "# en ordonnées: le temps d'exécution pour résoudre gen_grounded(a, .3)\n",
    "# du coup il y aurait 10 points par courbe\n",
    "\n",
    "# AUTRE EXEMPLE\n",
    "# bench(\n",
    "#     solvers=[\"manysat\", \"minisat\"],\n",
    "#     semantics=\"CO\",\n",
    "#     tasks=\"SE\",\n",
    "#     graphs=[(count_arguments(file), file) for file in graph_files],\n",
    "#     abs=\"max arg\",\n",
    "#     ord=\"time\",\n",
    "# )"
   ]
  }
 ],
 "metadata": {
  "interpreter": {
   "hash": "1af74b6fd445b57231cb1f4d1d189312d2e0b5c21b4c5b7828a9afbf5c2ec803"
  },
  "kernelspec": {
   "display_name": "Python 3.10.2 64-bit",
   "language": "python",
   "name": "python3"
  },
  "language_info": {
   "codemirror_mode": {
    "name": "ipython",
    "version": 3
   },
   "file_extension": ".py",
   "mimetype": "text/x-python",
   "name": "python",
   "nbconvert_exporter": "python",
   "pygments_lexer": "ipython3",
   "version": "3.10.2"
  },
  "orig_nbformat": 4
 },
 "nbformat": 4,
 "nbformat_minor": 2
}
