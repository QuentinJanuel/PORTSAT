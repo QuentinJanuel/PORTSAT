{
 "cells": [
  {
   "cell_type": "markdown",
   "metadata": {},
   "source": [
    "# Argumentation framework"
   ]
  },
  {
   "cell_type": "markdown",
   "metadata": {},
   "source": [
    "### Unit testing"
   ]
  },
  {
   "cell_type": "code",
   "execution_count": null,
   "metadata": {},
   "outputs": [],
   "source": [
    "from utils.iccma.index import get_graphs\n",
    "from utils.test.index import test\n",
    "\n",
    "TESTING = False\n",
    "\n",
    "if TESTING:\n",
    "    graphs = get_graphs([\n",
    "        (\"scc\", \"small\"),\n",
    "        (\"gr\", \"small\"),\n",
    "        (\"st\", \"small\"),\n",
    "    ])\n",
    "    # Complete, stable and preferred\n",
    "    test(\n",
    "        iccma_graphs=graphs,\n",
    "        solvers=[\"minisat\", \"manysat\", \"maplesat\", \"glucose\"],\n",
    "        semantics=[\"CO\", \"ST\", \"PR\"],\n",
    "        tasks=[\"SE\", \"EE\"],\n",
    "        timeout=100,  # seconds\n",
    "    )\n",
    "    # Grounded (must not set the solvers)\n",
    "    test(\n",
    "        iccma_graphs=graphs,\n",
    "        solvers=[],\n",
    "        semantics=[\"GR\"],\n",
    "        tasks=[\"SE\", \"EE\"],\n",
    "        timeout=1,  # seconds\n",
    "    )\n",
    "else:\n",
    "    print(\"Skipped testing\")"
   ]
  },
  {
   "cell_type": "markdown",
   "metadata": {},
   "source": [
    "### Benchmarking"
   ]
  },
  {
   "cell_type": "code",
   "execution_count": null,
   "metadata": {},
   "outputs": [],
   "source": [
    "from utils.iccma.index import get_graphs\n",
    "from utils.benchmark.bar_graph import bench\n",
    "from utils.graph import Graph\n",
    "\n",
    "bench(\n",
    "    name=\"test\",\n",
    "    graphs=[\n",
    "        Graph.from_iccma_graph(g)\n",
    "        for g in get_graphs([(\"gr\", \"small\")])\n",
    "    ],\n",
    "    solvers=[\"minisat\", \"manysat\", \"maplesat\", \"glucose\"],\n",
    "    semantics=[\"CO\"],\n",
    "    tasks=[\"SE\"],\n",
    "    timeout=5 * 60,  # seconds\n",
    ")"
   ]
  },
  {
   "cell_type": "code",
   "execution_count": 2,
   "metadata": {},
   "outputs": [
    {
     "name": "stdout",
     "output_type": "stream",
     "text": [
      "{'GrapheList': [{'complete_graph': {'name': 'complete', 'x_label': 'nodes', 'inputs': 'frange(1, 1000, 10)', 'graph_generator': 'lambda n: Graph.from_nx_gen(nx.complete_graph(n))'}}, {'graph': []}]}\n"
     ]
    },
    {
     "ename": "SystemExit",
     "evalue": "",
     "output_type": "error",
     "traceback": [
      "An exception has occurred, use %tb to see the full traceback.\n",
      "\u001b[0;31mSystemExit\u001b[0m\n"
     ]
    }
   ],
   "source": [
    "from utils.benchmark.line_graph import bench, frange\n",
    "from utils.problem import Problem, Task, Semantics\n",
    "from utils.graph import Graph\n",
    "import networkx as nx\n",
    "from typing import List\n",
    "from itertools import product\n",
    "from graphParam import networkXDict\n",
    "TASKS: List[Task] = [\"SE\"]#, \"EE\", \"DC\", \"DS\"]\n",
    "SEMANTICS: List[Semantics] = [\"CO\"]#, \"ST\", \"PR\"]\n",
    "SOLVERS = [\n",
    "    \"minisat\",\n",
    "    \"manysat\",\n",
    "    \"glucose\",\n",
    "    \"maplesat\",\n",
    "]\n",
    "\n",
    "with open(\"graphParam.json\",\"r\") as input_file:\n",
    "    graphList=json.load(input_file)[\"GrapheList\"]\n",
    "\n",
    "\n",
    "# def graph_gen(proba: float):\n",
    "#     node_num = 1000\n",
    "#     nx_gen = nx.barabasi_albert_graph(node_num, int(node_num * proba))\n",
    "#     nx_graph = nx.Graph(nx_gen)\n",
    "#     return Graph.from_networkx(nx_graph)\n",
    "\n",
    "for task, semantics in product(TASKS, SEMANTICS):\n",
    "    # bench(\n",
    "    #     name=\"complete\",\n",
    "    #     x_label=\"nodes\",\n",
    "    #     inputs=frange(1, 1000, 10),\n",
    "    #     graph_generator=lambda n: Graph.from_nx_gen(nx.complete_graph(n)),\n",
    "    #     solvers=SOLVERS,\n",
    "    #     problem=Problem(task, semantics),\n",
    "    # )\n",
    "    # bench(\n",
    "    #     name=\"cycle\",\n",
    "    #     x_label=\"nodes\",\n",
    "    #     inputs=frange(1000, 10000, 100),\n",
    "    #     graph_generator=lambda n: Graph.from_nx_gen(nx.cycle_graph(n)),\n",
    "    #     solvers=SOLVERS,\n",
    "    #     problem=Problem(task, semantics),\n",
    "    # )\n",
    "    # bench(\n",
    "    #     name=\"barbell_path_100\",\n",
    "    #     x_label=\"nodes per complete graph\",\n",
    "    #     inputs=frange(100, 1000, 10),\n",
    "    #     graph_generator=lambda m1: Graph.from_nx_gen(nx.barbell_graph(m1, 100)),\n",
    "    #     solvers=SOLVERS,\n",
    "    #     problem=Problem(task, semantics),\n",
    "    # )\n",
    "    bench(\n",
    "        name=\"barbell_size_1000\",\n",
    "        x_label=\"path length\",\n",
    "        inputs=frange(0, 1000, 10),\n",
    "        graph_generator=lambda m2: Graph.from_nx_gen(nx.barbell_graph(1000, m2)),\n",
    "        solvers=SOLVERS,\n",
    "        problem=Problem(task, semantics),\n",
    "    )\n",
    "    break"
   ]
  },
  {
   "cell_type": "code",
   "execution_count": 7,
   "metadata": {},
   "outputs": [
    {
     "name": "stdout",
     "output_type": "stream",
     "text": [
      "Generation: 100%          \n",
      "Execution: 100%          \n"
     ]
    }
   ],
   "source": [
    "from utils.benchmark.line_graph import bench, frange\n",
    "from utils.problem import Problem, Task, Semantics\n",
    "from utils.graph import Graph\n",
    "import networkx as nx\n",
    "from typing import List\n",
    "from itertools import product\n",
    "from graphParam import networkXDict\n",
    "\n",
    "\n",
    "TASKS: List[Task] = [\"SE\"]#, \"EE\", \"DC\", \"DS\"]\n",
    "SEMANTICS: List[Semantics] = [\"CO\"]#, \"ST\", \"PR\"]\n",
    "SOLVERS = [\n",
    "    \"minisat\",\n",
    "    \"manysat\",\n",
    "    \"glucose\",\n",
    "]\n",
    "\n",
    "with open(\"graphExecution\",\"r\") as execution:\n",
    "    execOrder=execution.read().split(\";\")\n",
    "done=\"\"\n",
    "failed=\"\"\n",
    "for graphToDo in execOrder:\n",
    "    for task, semantics in product(TASKS, SEMANTICS):\n",
    "        try:\n",
    "            bench(\n",
    "                name=networkXDict[graphToDo][\"name\"],\n",
    "                x_label=networkXDict[graphToDo][\"x_label\"],\n",
    "                inputs=networkXDict[graphToDo][\"inputs\"],\n",
    "                graph_generator=networkXDict[graphToDo][\"graph_generator\"],\n",
    "                solvers=SOLVERS,\n",
    "                problem=Problem(task, semantics),\n",
    "            )\n",
    "            done+=graphToDo+\";\"\n",
    "        except:\n",
    "            failed+=graphToDo+\";\"\n",
    "            print(f\"Failed :{failed}\")\n",
    "            print(f\"done :{done}\")\n",
    "            \n",
    "    \n",
    "    break"
   ]
  },
  {
   "cell_type": "markdown",
   "metadata": {},
   "source": [
    "### Graph generation"
   ]
  },
  {
   "cell_type": "code",
   "execution_count": null,
   "metadata": {},
   "outputs": [],
   "source": [
    "from utils.gen.stable import gen as gen_stable\n",
    "from utils.gen.grounded import gen as gen_grounded\n",
    "# from utils.gen.scc import gen as gen_scc\n",
    "\n",
    "g_stable = gen_stable(500, 100, 500, 100, 500, 100, 500, .6)\n",
    "g_stable.save(\"stable\")\n",
    "\n",
    "g_grounded = gen_grounded(500, .3)\n",
    "g_grounded.save(\"grounded\")\n",
    "\n",
    "# g_scc = gen_scc(500, 500, .6, .3, .4)\n",
    "# g_scc.save(\"scc\")"
   ]
  },
  {
   "cell_type": "code",
   "execution_count": null,
   "metadata": {},
   "outputs": [],
   "source": [
    "import networkx as nx\n",
    "from utils.graph import Graph\n",
    "\n",
    "nx_graph = nx.Graph()\n",
    "nx_graph.add_nodes_from(\"hello\")\n",
    "nx_graph.add_edge(\"h\", \"e\")\n",
    "\n",
    "graph = Graph.from_networkx(nx_graph)\n",
    "graph.save(\"networkx\")\n",
    "\n",
    "graph2 = Graph.from_networkx(nx.Graph(nx.binomial_tree(4)))\n",
    "graph2.save(\"bitree\")\n"
   ]
  }
 ],
 "metadata": {
  "interpreter": {
   "hash": "1af74b6fd445b57231cb1f4d1d189312d2e0b5c21b4c5b7828a9afbf5c2ec803"
  },
  "kernelspec": {
   "display_name": "Python 3.10.2 64-bit",
   "language": "python",
   "name": "python3"
  },
  "language_info": {
   "codemirror_mode": {
    "name": "ipython",
    "version": 3
   },
   "file_extension": ".py",
   "mimetype": "text/x-python",
   "name": "python",
   "nbconvert_exporter": "python",
   "pygments_lexer": "ipython3",
   "version": "3.10.3"
  },
  "orig_nbformat": 4
 },
 "nbformat": 4,
 "nbformat_minor": 2
}
