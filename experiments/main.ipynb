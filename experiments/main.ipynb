{
 "cells": [
  {
   "cell_type": "markdown",
   "metadata": {},
   "source": [
    "# Argumentation framework"
   ]
  },
  {
   "cell_type": "markdown",
   "metadata": {},
   "source": [
    "### Unit testing"
   ]
  },
  {
   "cell_type": "code",
   "execution_count": null,
   "metadata": {},
   "outputs": [],
   "source": [
    "from utils.iccma.index import get_graphs\n",
    "from utils.test.index import test\n",
    "\n",
    "TESTING = True\n",
    "\n",
    "if TESTING:\n",
    "    graphs = get_graphs([\n",
    "        (\"scc\", \"small\"),\n",
    "        (\"gr\", \"small\"),\n",
    "        (\"st\", \"small\"),\n",
    "    ])\n",
    "    # Complete, stable and preferred\n",
    "    test(\n",
    "        iccma_graphs=graphs,\n",
    "        solvers=[\"minisat\"],\n",
    "        semantics=[\"PR\"],\n",
    "        tasks=[\"SE\"],\n",
    "        timeout=100,  # seconds\n",
    "    )\n",
    "    # Grounded (must not set the solvers)\n",
    "    # test(\n",
    "    #     iccma_graphs=graphs,\n",
    "    #     solvers=[],\n",
    "    #     semantics=[\"GR\"],\n",
    "    #     tasks=[\"SE\", \"EE\"],\n",
    "    #     timeout=1,  # seconds\n",
    "    # )\n",
    "else:\n",
    "    print(\"Skipped testing\")"
   ]
  },
  {
   "cell_type": "markdown",
   "metadata": {},
   "source": [
    "### Benchmarking"
   ]
  },
  {
   "cell_type": "code",
   "execution_count": null,
   "metadata": {},
   "outputs": [],
   "source": [
    "from utils.benchmark.bar_graph import bench\n",
    "from typing import List\n",
    "from itertools import product\n",
    "from utils.iccma.index import get_graphs, GraphType, Size\n",
    "from utils.graph import Graph\n",
    "\n",
    "TYPES: List[GraphType] = [\"gr\", \"st\", \"scc\"]\n",
    "SIZES: List[Size] = [\"small\", \"medium\", \"large\"]\n",
    "\n",
    "for type, size in product(TYPES, SIZES):\n",
    "    if type == \"st\" and size == \"large\":\n",
    "        continue\n",
    "    bench(\n",
    "        graphs=[\n",
    "            Graph.from_iccma_graph(iccma_graph)\n",
    "            for iccma_graph in get_graphs([(type, size)])\n",
    "        ],\n",
    "        solvers=[\n",
    "            \"minisat\",\n",
    "            \"minisat --pr-mss\",\n",
    "        ],\n",
    "        semantics=[\"PR\"],\n",
    "        tasks=[\"SE\"],\n",
    "        name=f\"pr-{type}-{size}\",\n",
    "    )"
   ]
  },
  {
   "cell_type": "code",
   "execution_count": null,
   "metadata": {},
   "outputs": [],
   "source": [
    "from utils.benchmark.line_graph import bench\n",
    "from utils.problem import Problem, Task, Semantics\n",
    "from typing import List\n",
    "from graphs import graphs\n",
    "from itertools import product\n",
    "\n",
    "\n",
    "TASKS: List[Task] = [\"SE\", \"EE\", \"DC\", \"DS\"]\n",
    "SEMANTICS: List[Semantics] = [\"CO\", \"ST\", \"PR\"]\n",
    "SOLVERS = [\n",
    "    \"minisat\",\n",
    "    \"manysat\",\n",
    "    \"glucose\",\n",
    "    # \"glucose,glucose-pre\",\n",
    "    \"maplesat\",\n",
    "]\n",
    "\n",
    "name = \"windmill\"\n",
    "graph = graphs[name]\n",
    "for task, sem in product(TASKS, SEMANTICS):\n",
    "    if task == \"SE\" and sem == \"CO\":\n",
    "        continue\n",
    "    problem = Problem(task, sem)\n",
    "    print(f\"{name}: {problem}\")\n",
    "    bench(\n",
    "        graph[\"x_label\"],\n",
    "        graph[\"inputs\"],\n",
    "        graph[\"gen\"],\n",
    "        SOLVERS,\n",
    "        problem,\n",
    "        name,\n",
    "        save_graphs=True,\n",
    "    )"
   ]
  }
 ],
 "metadata": {
  "interpreter": {
   "hash": "1af74b6fd445b57231cb1f4d1d189312d2e0b5c21b4c5b7828a9afbf5c2ec803"
  },
  "kernelspec": {
   "display_name": "Python 3.10.2 64-bit",
   "language": "python",
   "name": "python3"
  },
  "language_info": {
   "codemirror_mode": {
    "name": "ipython",
    "version": 3
   },
   "file_extension": ".py",
   "mimetype": "text/x-python",
   "name": "python",
   "nbconvert_exporter": "python",
   "pygments_lexer": "ipython3",
   "version": "3.10.2"
  },
  "orig_nbformat": 4
 },
 "nbformat": 4,
 "nbformat_minor": 2
}
