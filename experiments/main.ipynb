{
 "cells": [
  {
   "cell_type": "markdown",
   "metadata": {},
   "source": [
    "# Argumentation framework"
   ]
  },
  {
   "cell_type": "code",
   "execution_count": 12,
   "metadata": {},
   "outputs": [
    {
     "name": "stdout",
     "output_type": "stream",
     "text": [
      " Tester 14/72 gr EE-PR manysat Timeouts: 0                     "
     ]
    },
    {
     "ename": "KeyboardInterrupt",
     "evalue": "",
     "output_type": "error",
     "traceback": [
      "\u001b[1;31m---------------------------------------------------------------------------\u001b[0m",
      "\u001b[1;31mKeyboardInterrupt\u001b[0m                         Traceback (most recent call last)",
      "Input \u001b[1;32mIn [12]\u001b[0m, in \u001b[0;36m<module>\u001b[1;34m\u001b[0m\n\u001b[0;32m      2\u001b[0m \u001b[39mfrom\u001b[39;00m \u001b[39mutils\u001b[39;00m\u001b[39m.\u001b[39;00m\u001b[39mtest\u001b[39;00m\u001b[39m.\u001b[39;00m\u001b[39mtester\u001b[39;00m \u001b[39mimport\u001b[39;00m test\n\u001b[0;32m      4\u001b[0m \u001b[39m# Complete, stable and preferred\u001b[39;00m\n\u001b[1;32m----> 5\u001b[0m test(\n\u001b[0;32m      6\u001b[0m     testers\u001b[39m=\u001b[39;49mget_testers(types\u001b[39m=\u001b[39;49m[\u001b[39m\"\u001b[39;49m\u001b[39mscc\u001b[39;49m\u001b[39m\"\u001b[39;49m, \u001b[39m\"\u001b[39;49m\u001b[39mgr\u001b[39;49m\u001b[39m\"\u001b[39;49m, \u001b[39m\"\u001b[39;49m\u001b[39mst\u001b[39;49m\u001b[39m\"\u001b[39;49m]),\n\u001b[0;32m      7\u001b[0m     solvers\u001b[39m=\u001b[39;49m[\u001b[39m\"\u001b[39;49m\u001b[39mmanysat\u001b[39;49m\u001b[39m\"\u001b[39;49m, \u001b[39m\"\u001b[39;49m\u001b[39mglucose\u001b[39;49m\u001b[39m\"\u001b[39;49m],\n\u001b[0;32m      8\u001b[0m     semantics\u001b[39m=\u001b[39;49m[\u001b[39m\"\u001b[39;49m\u001b[39mCO\u001b[39;49m\u001b[39m\"\u001b[39;49m, \u001b[39m\"\u001b[39;49m\u001b[39mST\u001b[39;49m\u001b[39m\"\u001b[39;49m, \u001b[39m\"\u001b[39;49m\u001b[39mPR\u001b[39;49m\u001b[39m\"\u001b[39;49m],\n\u001b[0;32m      9\u001b[0m     tasks\u001b[39m=\u001b[39;49m[\u001b[39m\"\u001b[39;49m\u001b[39mSE\u001b[39;49m\u001b[39m\"\u001b[39;49m, \u001b[39m\"\u001b[39;49m\u001b[39mEE\u001b[39;49m\u001b[39m\"\u001b[39;49m],\n\u001b[0;32m     10\u001b[0m     timeout\u001b[39m=\u001b[39;49m\u001b[39m1\u001b[39;49m,  \u001b[39m# seconds\u001b[39;49;00m\n\u001b[0;32m     11\u001b[0m )\n\u001b[0;32m     13\u001b[0m \u001b[39m# Grounded (must not set the solvers)\u001b[39;00m\n\u001b[0;32m     14\u001b[0m test(\n\u001b[0;32m     15\u001b[0m     testers\u001b[39m=\u001b[39mget_testers(types\u001b[39m=\u001b[39m[\u001b[39m\"\u001b[39m\u001b[39mscc\u001b[39m\u001b[39m\"\u001b[39m, \u001b[39m\"\u001b[39m\u001b[39mgr\u001b[39m\u001b[39m\"\u001b[39m, \u001b[39m\"\u001b[39m\u001b[39mst\u001b[39m\u001b[39m\"\u001b[39m]),\n\u001b[0;32m     16\u001b[0m     solvers\u001b[39m=\u001b[39m[],\n\u001b[1;32m   (...)\u001b[0m\n\u001b[0;32m     19\u001b[0m     timeout\u001b[39m=\u001b[39m\u001b[39m1\u001b[39m,  \u001b[39m# seconds\u001b[39;00m\n\u001b[0;32m     20\u001b[0m )\n",
      "File \u001b[1;32mc:\\Users\\quent\\Desktop\\codes\\projects\\ter\\argumentation\\experiments\\utils\\test\\tester.py:16\u001b[0m, in \u001b[0;36mtest\u001b[1;34m(testers, solvers, semantics, tasks, timeout)\u001b[0m\n\u001b[0;32m     <a href='file:///c%3A/Users/quent/Desktop/codes/projects/ter/argumentation/experiments/utils/test/tester.py?line=13'>14</a>\u001b[0m timeout_count \u001b[39m=\u001b[39m \u001b[39m0\u001b[39m\n\u001b[0;32m     <a href='file:///c%3A/Users/quent/Desktop/codes/projects/ter/argumentation/experiments/utils/test/tester.py?line=14'>15</a>\u001b[0m \u001b[39mfor\u001b[39;00m i, tester \u001b[39min\u001b[39;00m \u001b[39menumerate\u001b[39m(testers):\n\u001b[1;32m---> <a href='file:///c%3A/Users/quent/Desktop/codes/projects/ter/argumentation/experiments/utils/test/tester.py?line=15'>16</a>\u001b[0m     success, timeout_count \u001b[39m=\u001b[39m tester\u001b[39m.\u001b[39;49mtest(\n\u001b[0;32m     <a href='file:///c%3A/Users/quent/Desktop/codes/projects/ter/argumentation/experiments/utils/test/tester.py?line=16'>17</a>\u001b[0m         solvers,\n\u001b[0;32m     <a href='file:///c%3A/Users/quent/Desktop/codes/projects/ter/argumentation/experiments/utils/test/tester.py?line=17'>18</a>\u001b[0m         semantics,\n\u001b[0;32m     <a href='file:///c%3A/Users/quent/Desktop/codes/projects/ter/argumentation/experiments/utils/test/tester.py?line=18'>19</a>\u001b[0m         tasks,\n\u001b[0;32m     <a href='file:///c%3A/Users/quent/Desktop/codes/projects/ter/argumentation/experiments/utils/test/tester.py?line=19'>20</a>\u001b[0m         progress\u001b[39m=\u001b[39;49m(i \u001b[39m+\u001b[39;49m \u001b[39m1\u001b[39;49m, \u001b[39mlen\u001b[39;49m(testers)),\n\u001b[0;32m     <a href='file:///c%3A/Users/quent/Desktop/codes/projects/ter/argumentation/experiments/utils/test/tester.py?line=20'>21</a>\u001b[0m         timeout_count\u001b[39m=\u001b[39;49mtimeout_count,\n\u001b[0;32m     <a href='file:///c%3A/Users/quent/Desktop/codes/projects/ter/argumentation/experiments/utils/test/tester.py?line=21'>22</a>\u001b[0m         timeout\u001b[39m=\u001b[39;49mtimeout,\n\u001b[0;32m     <a href='file:///c%3A/Users/quent/Desktop/codes/projects/ter/argumentation/experiments/utils/test/tester.py?line=22'>23</a>\u001b[0m     )\n\u001b[0;32m     <a href='file:///c%3A/Users/quent/Desktop/codes/projects/ter/argumentation/experiments/utils/test/tester.py?line=23'>24</a>\u001b[0m     \u001b[39mif\u001b[39;00m \u001b[39mnot\u001b[39;00m success:\n\u001b[0;32m     <a href='file:///c%3A/Users/quent/Desktop/codes/projects/ter/argumentation/experiments/utils/test/tester.py?line=24'>25</a>\u001b[0m         \u001b[39mprint\u001b[39m()\n",
      "File \u001b[1;32mc:\\Users\\quent\\Desktop\\codes\\projects\\ter\\argumentation\\experiments\\utils\\test\\tester.py:76\u001b[0m, in \u001b[0;36mTester.test\u001b[1;34m(self, solvers, semantics, tasks, progress, timeout_count, timeout)\u001b[0m\n\u001b[0;32m     <a href='file:///c%3A/Users/quent/Desktop/codes/projects/ter/argumentation/experiments/utils/test/tester.py?line=62'>63</a>\u001b[0m \u001b[39mfor\u001b[39;00m solver \u001b[39min\u001b[39;00m maybe_solvers:\n\u001b[0;32m     <a href='file:///c%3A/Users/quent/Desktop/codes/projects/ter/argumentation/experiments/utils/test/tester.py?line=63'>64</a>\u001b[0m     \u001b[39mprint\u001b[39m(\n\u001b[0;32m     <a href='file:///c%3A/Users/quent/Desktop/codes/projects/ter/argumentation/experiments/utils/test/tester.py?line=64'>65</a>\u001b[0m         \u001b[39m\"\u001b[39m\u001b[39m \u001b[39m\u001b[39m\"\u001b[39m\u001b[39m.\u001b[39mjoin([\n\u001b[0;32m     <a href='file:///c%3A/Users/quent/Desktop/codes/projects/ter/argumentation/experiments/utils/test/tester.py?line=65'>66</a>\u001b[0m             \u001b[39m\"\u001b[39m\u001b[39m\\r\u001b[39;00m\u001b[39m\"\u001b[39m,\n\u001b[1;32m   (...)\u001b[0m\n\u001b[0;32m     <a href='file:///c%3A/Users/quent/Desktop/codes/projects/ter/argumentation/experiments/utils/test/tester.py?line=73'>74</a>\u001b[0m         end\u001b[39m=\u001b[39m\u001b[39m\"\u001b[39m\u001b[39m\"\u001b[39m,\n\u001b[0;32m     <a href='file:///c%3A/Users/quent/Desktop/codes/projects/ter/argumentation/experiments/utils/test/tester.py?line=74'>75</a>\u001b[0m     )\n\u001b[1;32m---> <a href='file:///c%3A/Users/quent/Desktop/codes/projects/ter/argumentation/experiments/utils/test/tester.py?line=75'>76</a>\u001b[0m     guess \u001b[39m=\u001b[39m solve(\n\u001b[0;32m     <a href='file:///c%3A/Users/quent/Desktop/codes/projects/ter/argumentation/experiments/utils/test/tester.py?line=76'>77</a>\u001b[0m         \u001b[39minput\u001b[39;49m\u001b[39m=\u001b[39;49m\u001b[39mself\u001b[39;49m\u001b[39m.\u001b[39;49mget_input(),\n\u001b[0;32m     <a href='file:///c%3A/Users/quent/Desktop/codes/projects/ter/argumentation/experiments/utils/test/tester.py?line=77'>78</a>\u001b[0m         problem\u001b[39m=\u001b[39;49m\u001b[39mf\u001b[39;49m\u001b[39m\"\u001b[39;49m\u001b[39m{\u001b[39;49;00mtask\u001b[39m}\u001b[39;49;00m\u001b[39m-\u001b[39;49m\u001b[39m{\u001b[39;49;00msem\u001b[39m}\u001b[39;49;00m\u001b[39m\"\u001b[39;49m,\n\u001b[0;32m     <a href='file:///c%3A/Users/quent/Desktop/codes/projects/ter/argumentation/experiments/utils/test/tester.py?line=78'>79</a>\u001b[0m         solvers\u001b[39m=\u001b[39;49m[solver] \u001b[39mif\u001b[39;49;00m solver \u001b[39mis\u001b[39;49;00m \u001b[39mnot\u001b[39;49;00m \u001b[39mNone\u001b[39;49;00m \u001b[39melse\u001b[39;49;00m \u001b[39mNone\u001b[39;49;00m,\n\u001b[0;32m     <a href='file:///c%3A/Users/quent/Desktop/codes/projects/ter/argumentation/experiments/utils/test/tester.py?line=79'>80</a>\u001b[0m         \u001b[39mformat\u001b[39;49m\u001b[39m=\u001b[39;49m\u001b[39m\"\u001b[39;49m\u001b[39mtgf\u001b[39;49m\u001b[39m\"\u001b[39;49m,\n\u001b[0;32m     <a href='file:///c%3A/Users/quent/Desktop/codes/projects/ter/argumentation/experiments/utils/test/tester.py?line=80'>81</a>\u001b[0m         arg\u001b[39m=\u001b[39;49m\u001b[39mNone\u001b[39;49;00m,\n\u001b[0;32m     <a href='file:///c%3A/Users/quent/Desktop/codes/projects/ter/argumentation/experiments/utils/test/tester.py?line=81'>82</a>\u001b[0m         timeout\u001b[39m=\u001b[39;49mtimeout,\n\u001b[0;32m     <a href='file:///c%3A/Users/quent/Desktop/codes/projects/ter/argumentation/experiments/utils/test/tester.py?line=82'>83</a>\u001b[0m     )\n\u001b[0;32m     <a href='file:///c%3A/Users/quent/Desktop/codes/projects/ter/argumentation/experiments/utils/test/tester.py?line=83'>84</a>\u001b[0m     \u001b[39mif\u001b[39;00m guess \u001b[39mis\u001b[39;00m \u001b[39mNone\u001b[39;00m:\n\u001b[0;32m     <a href='file:///c%3A/Users/quent/Desktop/codes/projects/ter/argumentation/experiments/utils/test/tester.py?line=84'>85</a>\u001b[0m         timeout_count \u001b[39m+\u001b[39m\u001b[39m=\u001b[39m \u001b[39m1\u001b[39m\n",
      "File \u001b[1;32mc:\\Users\\quent\\Desktop\\codes\\projects\\ter\\argumentation\\experiments\\utils\\solve.py:26\u001b[0m, in \u001b[0;36msolve\u001b[1;34m(input, problem, arg, solvers, format, timeout)\u001b[0m\n\u001b[0;32m     <a href='file:///c%3A/Users/quent/Desktop/codes/projects/ter/argumentation/experiments/utils/solve.py?line=16'>17</a>\u001b[0m \u001b[39mdef\u001b[39;00m \u001b[39msolve\u001b[39m(\n\u001b[0;32m     <a href='file:///c%3A/Users/quent/Desktop/codes/projects/ter/argumentation/experiments/utils/solve.py?line=17'>18</a>\u001b[0m     \u001b[39minput\u001b[39m: Path,\n\u001b[0;32m     <a href='file:///c%3A/Users/quent/Desktop/codes/projects/ter/argumentation/experiments/utils/solve.py?line=18'>19</a>\u001b[0m     problem: \u001b[39mstr\u001b[39m,\n\u001b[1;32m   (...)\u001b[0m\n\u001b[0;32m     <a href='file:///c%3A/Users/quent/Desktop/codes/projects/ter/argumentation/experiments/utils/solve.py?line=22'>23</a>\u001b[0m     timeout: \u001b[39mfloat\u001b[39m \u001b[39m|\u001b[39m \u001b[39mNone\u001b[39;00m \u001b[39m=\u001b[39m \u001b[39mNone\u001b[39;00m,\n\u001b[0;32m     <a href='file:///c%3A/Users/quent/Desktop/codes/projects/ter/argumentation/experiments/utils/solve.py?line=23'>24</a>\u001b[0m ) \u001b[39m-\u001b[39m\u001b[39m>\u001b[39m \u001b[39mstr\u001b[39m \u001b[39m|\u001b[39m \u001b[39mNone\u001b[39;00m:\n\u001b[0;32m     <a href='file:///c%3A/Users/quent/Desktop/codes/projects/ter/argumentation/experiments/utils/solve.py?line=24'>25</a>\u001b[0m     \u001b[39mtry\u001b[39;00m:\n\u001b[1;32m---> <a href='file:///c%3A/Users/quent/Desktop/codes/projects/ter/argumentation/experiments/utils/solve.py?line=25'>26</a>\u001b[0m         result \u001b[39m=\u001b[39m subprocess\u001b[39m.\u001b[39;49mrun(\n\u001b[0;32m     <a href='file:///c%3A/Users/quent/Desktop/codes/projects/ter/argumentation/experiments/utils/solve.py?line=26'>27</a>\u001b[0m             [\n\u001b[0;32m     <a href='file:///c%3A/Users/quent/Desktop/codes/projects/ter/argumentation/experiments/utils/solve.py?line=27'>28</a>\u001b[0m                 get_exe(),\n\u001b[0;32m     <a href='file:///c%3A/Users/quent/Desktop/codes/projects/ter/argumentation/experiments/utils/solve.py?line=28'>29</a>\u001b[0m                 \u001b[39m\"\u001b[39;49m\u001b[39m-p\u001b[39;49m\u001b[39m\"\u001b[39;49m,\n\u001b[0;32m     <a href='file:///c%3A/Users/quent/Desktop/codes/projects/ter/argumentation/experiments/utils/solve.py?line=29'>30</a>\u001b[0m                 problem,\n\u001b[0;32m     <a href='file:///c%3A/Users/quent/Desktop/codes/projects/ter/argumentation/experiments/utils/solve.py?line=30'>31</a>\u001b[0m                 \u001b[39m\"\u001b[39;49m\u001b[39m-f\u001b[39;49m\u001b[39m\"\u001b[39;49m,\n\u001b[0;32m     <a href='file:///c%3A/Users/quent/Desktop/codes/projects/ter/argumentation/experiments/utils/solve.py?line=31'>32</a>\u001b[0m                 \u001b[39minput\u001b[39;49m,\n\u001b[0;32m     <a href='file:///c%3A/Users/quent/Desktop/codes/projects/ter/argumentation/experiments/utils/solve.py?line=32'>33</a>\u001b[0m                 \u001b[39m\"\u001b[39;49m\u001b[39m-fo\u001b[39;49m\u001b[39m\"\u001b[39;49m,\n\u001b[0;32m     <a href='file:///c%3A/Users/quent/Desktop/codes/projects/ter/argumentation/experiments/utils/solve.py?line=33'>34</a>\u001b[0m                 \u001b[39mformat\u001b[39;49m,\n\u001b[0;32m     <a href='file:///c%3A/Users/quent/Desktop/codes/projects/ter/argumentation/experiments/utils/solve.py?line=34'>35</a>\u001b[0m                 \u001b[39m*\u001b[39;49m([] \u001b[39mif\u001b[39;49;00m arg \u001b[39mis\u001b[39;49;00m \u001b[39mNone\u001b[39;49;00m \u001b[39melse\u001b[39;49;00m [\u001b[39m\"\u001b[39;49m\u001b[39m-a\u001b[39;49m\u001b[39m\"\u001b[39;49m, arg]),\n\u001b[0;32m     <a href='file:///c%3A/Users/quent/Desktop/codes/projects/ter/argumentation/experiments/utils/solve.py?line=35'>36</a>\u001b[0m                 \u001b[39m*\u001b[39;49m([] \u001b[39mif\u001b[39;49;00m solvers \u001b[39mis\u001b[39;49;00m \u001b[39mNone\u001b[39;49;00m \u001b[39melse\u001b[39;49;00m [\u001b[39m\"\u001b[39;49m\u001b[39m-s\u001b[39;49m\u001b[39m\"\u001b[39;49m, \u001b[39m\"\u001b[39;49m\u001b[39m,\u001b[39;49m\u001b[39m\"\u001b[39;49m\u001b[39m.\u001b[39;49mjoin(solvers)]),\n\u001b[0;32m     <a href='file:///c%3A/Users/quent/Desktop/codes/projects/ter/argumentation/experiments/utils/solve.py?line=36'>37</a>\u001b[0m             ],\n\u001b[0;32m     <a href='file:///c%3A/Users/quent/Desktop/codes/projects/ter/argumentation/experiments/utils/solve.py?line=37'>38</a>\u001b[0m             capture_output\u001b[39m=\u001b[39;49m\u001b[39mTrue\u001b[39;49;00m,\n\u001b[0;32m     <a href='file:///c%3A/Users/quent/Desktop/codes/projects/ter/argumentation/experiments/utils/solve.py?line=38'>39</a>\u001b[0m             text\u001b[39m=\u001b[39;49m\u001b[39mTrue\u001b[39;49;00m,\n\u001b[0;32m     <a href='file:///c%3A/Users/quent/Desktop/codes/projects/ter/argumentation/experiments/utils/solve.py?line=39'>40</a>\u001b[0m             timeout\u001b[39m=\u001b[39;49mtimeout,\n\u001b[0;32m     <a href='file:///c%3A/Users/quent/Desktop/codes/projects/ter/argumentation/experiments/utils/solve.py?line=40'>41</a>\u001b[0m         )\n\u001b[0;32m     <a href='file:///c%3A/Users/quent/Desktop/codes/projects/ter/argumentation/experiments/utils/solve.py?line=41'>42</a>\u001b[0m         \u001b[39mif\u001b[39;00m result\u001b[39m.\u001b[39mreturncode \u001b[39m!=\u001b[39m \u001b[39m0\u001b[39m:\n\u001b[0;32m     <a href='file:///c%3A/Users/quent/Desktop/codes/projects/ter/argumentation/experiments/utils/solve.py?line=42'>43</a>\u001b[0m             \u001b[39mraise\u001b[39;00m \u001b[39mException\u001b[39;00m(result\u001b[39m.\u001b[39mstderr)\n",
      "File \u001b[1;32m~\\AppData\\Local\\Programs\\Python\\Python310\\lib\\subprocess.py:503\u001b[0m, in \u001b[0;36mrun\u001b[1;34m(input, capture_output, timeout, check, *popenargs, **kwargs)\u001b[0m\n\u001b[0;32m    <a href='file:///c%3A/Users/quent/AppData/Local/Programs/Python/Python310/lib/subprocess.py?line=500'>501</a>\u001b[0m \u001b[39mwith\u001b[39;00m Popen(\u001b[39m*\u001b[39mpopenargs, \u001b[39m*\u001b[39m\u001b[39m*\u001b[39mkwargs) \u001b[39mas\u001b[39;00m process:\n\u001b[0;32m    <a href='file:///c%3A/Users/quent/AppData/Local/Programs/Python/Python310/lib/subprocess.py?line=501'>502</a>\u001b[0m     \u001b[39mtry\u001b[39;00m:\n\u001b[1;32m--> <a href='file:///c%3A/Users/quent/AppData/Local/Programs/Python/Python310/lib/subprocess.py?line=502'>503</a>\u001b[0m         stdout, stderr \u001b[39m=\u001b[39m process\u001b[39m.\u001b[39;49mcommunicate(\u001b[39minput\u001b[39;49m, timeout\u001b[39m=\u001b[39;49mtimeout)\n\u001b[0;32m    <a href='file:///c%3A/Users/quent/AppData/Local/Programs/Python/Python310/lib/subprocess.py?line=503'>504</a>\u001b[0m     \u001b[39mexcept\u001b[39;00m TimeoutExpired \u001b[39mas\u001b[39;00m exc:\n\u001b[0;32m    <a href='file:///c%3A/Users/quent/AppData/Local/Programs/Python/Python310/lib/subprocess.py?line=504'>505</a>\u001b[0m         process\u001b[39m.\u001b[39mkill()\n",
      "File \u001b[1;32m~\\AppData\\Local\\Programs\\Python\\Python310\\lib\\subprocess.py:1149\u001b[0m, in \u001b[0;36mPopen.communicate\u001b[1;34m(self, input, timeout)\u001b[0m\n\u001b[0;32m   <a href='file:///c%3A/Users/quent/AppData/Local/Programs/Python/Python310/lib/subprocess.py?line=1145'>1146</a>\u001b[0m     endtime \u001b[39m=\u001b[39m \u001b[39mNone\u001b[39;00m\n\u001b[0;32m   <a href='file:///c%3A/Users/quent/AppData/Local/Programs/Python/Python310/lib/subprocess.py?line=1147'>1148</a>\u001b[0m \u001b[39mtry\u001b[39;00m:\n\u001b[1;32m-> <a href='file:///c%3A/Users/quent/AppData/Local/Programs/Python/Python310/lib/subprocess.py?line=1148'>1149</a>\u001b[0m     stdout, stderr \u001b[39m=\u001b[39m \u001b[39mself\u001b[39;49m\u001b[39m.\u001b[39;49m_communicate(\u001b[39minput\u001b[39;49m, endtime, timeout)\n\u001b[0;32m   <a href='file:///c%3A/Users/quent/AppData/Local/Programs/Python/Python310/lib/subprocess.py?line=1149'>1150</a>\u001b[0m \u001b[39mexcept\u001b[39;00m \u001b[39mKeyboardInterrupt\u001b[39;00m:\n\u001b[0;32m   <a href='file:///c%3A/Users/quent/AppData/Local/Programs/Python/Python310/lib/subprocess.py?line=1150'>1151</a>\u001b[0m     \u001b[39m# https://bugs.python.org/issue25942\u001b[39;00m\n\u001b[0;32m   <a href='file:///c%3A/Users/quent/AppData/Local/Programs/Python/Python310/lib/subprocess.py?line=1151'>1152</a>\u001b[0m     \u001b[39m# See the detailed comment in .wait().\u001b[39;00m\n\u001b[0;32m   <a href='file:///c%3A/Users/quent/AppData/Local/Programs/Python/Python310/lib/subprocess.py?line=1152'>1153</a>\u001b[0m     \u001b[39mif\u001b[39;00m timeout \u001b[39mis\u001b[39;00m \u001b[39mnot\u001b[39;00m \u001b[39mNone\u001b[39;00m:\n",
      "File \u001b[1;32m~\\AppData\\Local\\Programs\\Python\\Python310\\lib\\subprocess.py:1523\u001b[0m, in \u001b[0;36mPopen._communicate\u001b[1;34m(self, input, endtime, orig_timeout)\u001b[0m\n\u001b[0;32m   <a href='file:///c%3A/Users/quent/AppData/Local/Programs/Python/Python310/lib/subprocess.py?line=1518'>1519</a>\u001b[0m \u001b[39m# Wait for the reader threads, or time out.  If we time out, the\u001b[39;00m\n\u001b[0;32m   <a href='file:///c%3A/Users/quent/AppData/Local/Programs/Python/Python310/lib/subprocess.py?line=1519'>1520</a>\u001b[0m \u001b[39m# threads remain reading and the fds left open in case the user\u001b[39;00m\n\u001b[0;32m   <a href='file:///c%3A/Users/quent/AppData/Local/Programs/Python/Python310/lib/subprocess.py?line=1520'>1521</a>\u001b[0m \u001b[39m# calls communicate again.\u001b[39;00m\n\u001b[0;32m   <a href='file:///c%3A/Users/quent/AppData/Local/Programs/Python/Python310/lib/subprocess.py?line=1521'>1522</a>\u001b[0m \u001b[39mif\u001b[39;00m \u001b[39mself\u001b[39m\u001b[39m.\u001b[39mstdout \u001b[39mis\u001b[39;00m \u001b[39mnot\u001b[39;00m \u001b[39mNone\u001b[39;00m:\n\u001b[1;32m-> <a href='file:///c%3A/Users/quent/AppData/Local/Programs/Python/Python310/lib/subprocess.py?line=1522'>1523</a>\u001b[0m     \u001b[39mself\u001b[39;49m\u001b[39m.\u001b[39;49mstdout_thread\u001b[39m.\u001b[39;49mjoin(\u001b[39mself\u001b[39;49m\u001b[39m.\u001b[39;49m_remaining_time(endtime))\n\u001b[0;32m   <a href='file:///c%3A/Users/quent/AppData/Local/Programs/Python/Python310/lib/subprocess.py?line=1523'>1524</a>\u001b[0m     \u001b[39mif\u001b[39;00m \u001b[39mself\u001b[39m\u001b[39m.\u001b[39mstdout_thread\u001b[39m.\u001b[39mis_alive():\n\u001b[0;32m   <a href='file:///c%3A/Users/quent/AppData/Local/Programs/Python/Python310/lib/subprocess.py?line=1524'>1525</a>\u001b[0m         \u001b[39mraise\u001b[39;00m TimeoutExpired(\u001b[39mself\u001b[39m\u001b[39m.\u001b[39margs, orig_timeout)\n",
      "File \u001b[1;32m~\\AppData\\Local\\Programs\\Python\\Python310\\lib\\threading.py:1093\u001b[0m, in \u001b[0;36mThread.join\u001b[1;34m(self, timeout)\u001b[0m\n\u001b[0;32m   <a href='file:///c%3A/Users/quent/AppData/Local/Programs/Python/Python310/lib/threading.py?line=1088'>1089</a>\u001b[0m     \u001b[39mself\u001b[39m\u001b[39m.\u001b[39m_wait_for_tstate_lock()\n\u001b[0;32m   <a href='file:///c%3A/Users/quent/AppData/Local/Programs/Python/Python310/lib/threading.py?line=1089'>1090</a>\u001b[0m \u001b[39melse\u001b[39;00m:\n\u001b[0;32m   <a href='file:///c%3A/Users/quent/AppData/Local/Programs/Python/Python310/lib/threading.py?line=1090'>1091</a>\u001b[0m     \u001b[39m# the behavior of a negative timeout isn't documented, but\u001b[39;00m\n\u001b[0;32m   <a href='file:///c%3A/Users/quent/AppData/Local/Programs/Python/Python310/lib/threading.py?line=1091'>1092</a>\u001b[0m     \u001b[39m# historically .join(timeout=x) for x<0 has acted as if timeout=0\u001b[39;00m\n\u001b[1;32m-> <a href='file:///c%3A/Users/quent/AppData/Local/Programs/Python/Python310/lib/threading.py?line=1092'>1093</a>\u001b[0m     \u001b[39mself\u001b[39;49m\u001b[39m.\u001b[39;49m_wait_for_tstate_lock(timeout\u001b[39m=\u001b[39;49m\u001b[39mmax\u001b[39;49m(timeout, \u001b[39m0\u001b[39;49m))\n",
      "File \u001b[1;32m~\\AppData\\Local\\Programs\\Python\\Python310\\lib\\threading.py:1109\u001b[0m, in \u001b[0;36mThread._wait_for_tstate_lock\u001b[1;34m(self, block, timeout)\u001b[0m\n\u001b[0;32m   <a href='file:///c%3A/Users/quent/AppData/Local/Programs/Python/Python310/lib/threading.py?line=1105'>1106</a>\u001b[0m     \u001b[39mreturn\u001b[39;00m\n\u001b[0;32m   <a href='file:///c%3A/Users/quent/AppData/Local/Programs/Python/Python310/lib/threading.py?line=1107'>1108</a>\u001b[0m \u001b[39mtry\u001b[39;00m:\n\u001b[1;32m-> <a href='file:///c%3A/Users/quent/AppData/Local/Programs/Python/Python310/lib/threading.py?line=1108'>1109</a>\u001b[0m     \u001b[39mif\u001b[39;00m lock\u001b[39m.\u001b[39;49macquire(block, timeout):\n\u001b[0;32m   <a href='file:///c%3A/Users/quent/AppData/Local/Programs/Python/Python310/lib/threading.py?line=1109'>1110</a>\u001b[0m         lock\u001b[39m.\u001b[39mrelease()\n\u001b[0;32m   <a href='file:///c%3A/Users/quent/AppData/Local/Programs/Python/Python310/lib/threading.py?line=1110'>1111</a>\u001b[0m         \u001b[39mself\u001b[39m\u001b[39m.\u001b[39m_stop()\n",
      "\u001b[1;31mKeyboardInterrupt\u001b[0m: "
     ]
    }
   ],
   "source": [
    "from utils.test.index import get_testers\n",
    "from utils.test.tester import test\n",
    "\n",
    "# Complete, stable and preferred\n",
    "test(\n",
    "    testers=get_testers(types=[\"scc\", \"gr\", \"st\"]),\n",
    "    solvers=[\"manysat\", \"glucose\"],\n",
    "    semantics=[\"CO\", \"ST\", \"PR\"],\n",
    "    tasks=[\"SE\", \"EE\"],\n",
    "    timeout=1,  # seconds\n",
    ")\n",
    "\n",
    "# Grounded (must not set the solvers)\n",
    "test(\n",
    "    testers=get_testers(types=[\"scc\", \"gr\", \"st\"]),\n",
    "    solvers=[],\n",
    "    semantics=[\"GR\"],\n",
    "    tasks=[\"SE\", \"EE\"],\n",
    "    timeout=1,  # seconds\n",
    ")"
   ]
  },
  {
   "cell_type": "code",
   "execution_count": null,
   "metadata": {},
   "outputs": [],
   "source": [
    "# from utils.gen.stable import gen as gen_stable\n",
    "from utils.gen.grounded import gen as gen_grounded\n",
    "\n",
    "# g_stable = gen_stable(10000, 100, 1000, 100, 1000, 100, 1000, .6)\n",
    "# g_stable.save(\"stable.txt\")\n",
    "\n",
    "g_grounded = gen_grounded(500, .3)\n",
    "g_grounded.save(\"grounded\")"
   ]
  },
  {
   "cell_type": "code",
   "execution_count": null,
   "metadata": {},
   "outputs": [],
   "source": [
    "# bench(\n",
    "#     solvers=[\"manysat\", \"minisat\"],\n",
    "#     semantics=\"CO\",\n",
    "#     tasks=\"SE\",\n",
    "#     graphs=[(a, gen_grounded(a, .3)) for a in range(0, 10)],\n",
    "#     abs=\"max arg\",\n",
    "#     ord=\"time\",\n",
    "# )\n",
    "\n",
    "# SUPPOSED TO:\n",
    "# Générer une image d'un graphe pour manysat et un autre pour minisat\n",
    "# (les deux courbes sur le même graphique)\n",
    "# avec la sémanntique CO et la tâche SE\n",
    "# en abscisses: a\n",
    "# en ordonnées: le temps d'exécution pour résoudre gen_grounded(a, .3)\n",
    "# du coup il y aurait 10 points par courbe\n",
    "\n",
    "# AUTRE EXEMPLE\n",
    "# bench(\n",
    "#     solvers=[\"manysat\", \"minisat\"],\n",
    "#     semantics=\"CO\",\n",
    "#     tasks=\"SE\",\n",
    "#     graphs=[(count_arguments(file), file) for file in graph_files],\n",
    "#     abs=\"max arg\",\n",
    "#     ord=\"time\",\n",
    "# )"
   ]
  },
  {
   "cell_type": "code",
   "execution_count": null,
   "metadata": {},
   "outputs": [],
   "source": [
    "from utils.solve import solve\n",
    "from utils.benchmark import benchmark\n",
    "from utils.reprandom import rr\n",
    "from pathlib import Path\n",
    "\n",
    "rep = 10\n",
    "\n",
    "solvers = [\"dpll\", \"minisat\", \"manysat\", \"glucose\"]\n",
    "\n",
    "times = {}\n",
    "\n",
    "for solver in solvers:\n",
    "    times[solver] = 0\n",
    "\n",
    "problems = []\n",
    "for _ in range(rep):\n",
    "    for solver in solvers:\n",
    "        problems.append(solver)\n",
    "\n",
    "sorted(problems, key = lambda _: rr.random())\n",
    "\n",
    "for problem in problems:\n",
    "    times[problem] += benchmark(\n",
    "        solve,\n",
    "        Path.cwd().joinpath(\"graph\", \"grounded.tgf\"),\n",
    "        \"SE-ST\",\n",
    "        solvers=[problem],\n",
    "    )\n",
    "\n",
    "for solver in solvers:\n",
    "    times[solver] /= rep\n",
    "\n",
    "times"
   ]
  }
 ],
 "metadata": {
  "interpreter": {
   "hash": "1af74b6fd445b57231cb1f4d1d189312d2e0b5c21b4c5b7828a9afbf5c2ec803"
  },
  "kernelspec": {
   "display_name": "Python 3.10.2 64-bit",
   "language": "python",
   "name": "python3"
  },
  "language_info": {
   "codemirror_mode": {
    "name": "ipython",
    "version": 3
   },
   "file_extension": ".py",
   "mimetype": "text/x-python",
   "name": "python",
   "nbconvert_exporter": "python",
   "pygments_lexer": "ipython3",
   "version": "3.10.2"
  },
  "orig_nbformat": 4
 },
 "nbformat": 4,
 "nbformat_minor": 2
}
