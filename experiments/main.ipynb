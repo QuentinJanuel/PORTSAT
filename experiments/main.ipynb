{
 "cells": [
  {
   "cell_type": "markdown",
   "metadata": {},
   "source": [
    "# Argumentation framework"
   ]
  },
  {
   "cell_type": "code",
   "execution_count": 32,
   "metadata": {},
   "outputs": [],
   "source": [
    "import os\n",
    "from pathlib import Path\n",
    "import subprocess\n",
    "\n",
    "def run(input, problem, arg = None):\n",
    "    exe = Path().joinpath(\n",
    "        os.getcwd(),\n",
    "        \"..\",\n",
    "        \"target\",\n",
    "        \"release\",\n",
    "        \"ter.exe\",\n",
    "    ).resolve()\n",
    "    result = subprocess.run(\n",
    "        [\n",
    "            exe,\n",
    "            \"-p\",\n",
    "            problem,\n",
    "            \"-f\",\n",
    "            input,\n",
    "            *([] if arg is None else [\"-a\", arg]),\n",
    "        ],\n",
    "        capture_output=True,\n",
    "        text=True,\n",
    "    )\n",
    "    if result.returncode != 0:\n",
    "        raise Exception(result.stderr)\n",
    "    return result.stdout"
   ]
  },
  {
   "cell_type": "code",
   "execution_count": 33,
   "metadata": {},
   "outputs": [
    {
     "name": "stdout",
     "output_type": "stream",
     "text": [
      "[1,4,6]\n",
      "\n"
     ]
    }
   ],
   "source": [
    "print(run(\"../examples/tgf.txt\", \"SE-CO\"))"
   ]
  },
  {
   "cell_type": "code",
   "execution_count": 34,
   "metadata": {},
   "outputs": [
    {
     "name": "stdout",
     "output_type": "stream",
     "text": [
      "[[1,4,6],[1],[3,1]]\n",
      "\n"
     ]
    }
   ],
   "source": [
    "print(run(\"../examples/tgf.txt\", \"EE-CO\"))"
   ]
  },
  {
   "cell_type": "code",
   "execution_count": 35,
   "metadata": {},
   "outputs": [
    {
     "name": "stdout",
     "output_type": "stream",
     "text": [
      "YES\n",
      "\n"
     ]
    }
   ],
   "source": [
    "print(run(\"../examples/tgf.txt\", \"DC-CO\", \"1\"))"
   ]
  },
  {
   "cell_type": "code",
   "execution_count": 36,
   "metadata": {},
   "outputs": [
    {
     "name": "stdout",
     "output_type": "stream",
     "text": [
      "YES\n",
      "\n"
     ]
    }
   ],
   "source": [
    "print(run(\"../examples/tgf.txt\", \"DC-CO\", \"3\"))"
   ]
  },
  {
   "cell_type": "code",
   "execution_count": 37,
   "metadata": {},
   "outputs": [
    {
     "name": "stdout",
     "output_type": "stream",
     "text": [
      "YES\n",
      "\n"
     ]
    }
   ],
   "source": [
    "print(run(\"../examples/tgf.txt\", \"DS-CO\", \"1\"))"
   ]
  },
  {
   "cell_type": "code",
   "execution_count": 38,
   "metadata": {},
   "outputs": [
    {
     "name": "stdout",
     "output_type": "stream",
     "text": [
      "NO\n",
      "\n"
     ]
    }
   ],
   "source": [
    "print(run(\"../examples/tgf.txt\", \"DS-CO\", \"3\"))"
   ]
  }
 ],
 "metadata": {
  "interpreter": {
   "hash": "1af74b6fd445b57231cb1f4d1d189312d2e0b5c21b4c5b7828a9afbf5c2ec803"
  },
  "kernelspec": {
   "display_name": "Python 3.10.2 64-bit",
   "language": "python",
   "name": "python3"
  },
  "language_info": {
   "codemirror_mode": {
    "name": "ipython",
    "version": 3
   },
   "file_extension": ".py",
   "mimetype": "text/x-python",
   "name": "python",
   "nbconvert_exporter": "python",
   "pygments_lexer": "ipython3",
   "version": "3.10.2"
  },
  "orig_nbformat": 4
 },
 "nbformat": 4,
 "nbformat_minor": 2
}
