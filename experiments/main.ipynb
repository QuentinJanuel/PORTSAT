{
 "cells": [
  {
   "cell_type": "markdown",
   "metadata": {},
   "source": [
    "# Argumentation framework"
   ]
  },
  {
   "cell_type": "markdown",
   "metadata": {},
   "source": [
    "### Unit testing"
   ]
  },
  {
   "cell_type": "code",
   "execution_count": null,
   "metadata": {},
   "outputs": [],
   "source": [
    "from utils.iccma.index import get_graphs\n",
    "from utils.test.index import test\n",
    "\n",
    "TESTING = False\n",
    "\n",
    "if TESTING:\n",
    "    graphs = get_graphs([\n",
    "        (\"scc\", \"small\"),\n",
    "        (\"gr\", \"small\"),\n",
    "        (\"st\", \"small\"),\n",
    "    ])\n",
    "    # Complete, stable and preferred\n",
    "    test(\n",
    "        iccma_graphs=graphs,\n",
    "        solvers=[\"minisat\", \"manysat\", \"maplesat\", \"glucose\"],\n",
    "        semantics=[\"CO\", \"ST\", \"PR\"],\n",
    "        tasks=[\"SE\", \"EE\"],\n",
    "        timeout=100,  # seconds\n",
    "    )\n",
    "    # Grounded (must not set the solvers)\n",
    "    test(\n",
    "        iccma_graphs=graphs,\n",
    "        solvers=[],\n",
    "        semantics=[\"GR\"],\n",
    "        tasks=[\"SE\", \"EE\"],\n",
    "        timeout=1,  # seconds\n",
    "    )\n",
    "else:\n",
    "    print(\"Skipped testing\")"
   ]
  },
  {
   "cell_type": "markdown",
   "metadata": {},
   "source": [
    "### Benchmarking"
   ]
  },
  {
   "cell_type": "code",
   "execution_count": null,
   "metadata": {},
   "outputs": [],
   "source": [
    "from utils.iccma.index import get_graphs\n",
    "from utils.benchmark.bar_graph import bench\n",
    "from utils.graph import Graph\n",
    "\n",
    "bench(\n",
    "    name=\"test\",\n",
    "    graphs=[\n",
    "        Graph.from_iccma_graph(g)\n",
    "        for g in get_graphs([(\"gr\", \"small\")])\n",
    "    ],\n",
    "    solvers=[\"minisat\", \"manysat\", \"maplesat\", \"glucose\"],\n",
    "    semantics=[\"CO\"],\n",
    "    tasks=[\"SE\"],\n",
    "    timeout=5 * 60,  # seconds\n",
    ")"
   ]
  },
  {
   "cell_type": "code",
   "execution_count": null,
   "metadata": {},
   "outputs": [],
   "source": [
    "from utils.benchmark.line_graph import bench, frange\n",
    "from utils.problem import Problem\n",
    "from utils.graph import Graph\n",
    "import networkx as nx\n",
    "\n",
    "def graph_gen(proba: float):\n",
    "    node_num = 1000\n",
    "    nx_gen = nx.barabasi_albert_graph(node_num, int(node_num * proba))\n",
    "    nx_graph = nx.Graph(nx_gen)\n",
    "    return Graph.from_networkx(nx_graph)\n",
    "\n",
    "bench(\n",
    "    name=\"test2\",\n",
    "    x_label=\"Probability\",\n",
    "    inputs=frange(.1, 1, .1),\n",
    "    graph_generator=graph_gen,\n",
    "    solvers=[\"manysat\", \"minisat\"],\n",
    "    problem=Problem(\"SE\", \"CO\"),\n",
    "    timeout=5 * 60,  # seconds\n",
    ")"
   ]
  },
  {
   "cell_type": "markdown",
   "metadata": {},
   "source": [
    "### Graph generation"
   ]
  },
  {
   "cell_type": "code",
   "execution_count": null,
   "metadata": {},
   "outputs": [],
   "source": [
    "from utils.gen.stable import gen as gen_stable\n",
    "from utils.gen.grounded import gen as gen_grounded\n",
    "# from utils.gen.scc import gen as gen_scc\n",
    "\n",
    "g_stable = gen_stable(500, 100, 500, 100, 500, 100, 500, .6)\n",
    "g_stable.save(\"stable\")\n",
    "\n",
    "g_grounded = gen_grounded(500, .3)\n",
    "g_grounded.save(\"grounded\")\n",
    "\n",
    "# g_scc = gen_scc(500, 500, .6, .3, .4)\n",
    "# g_scc.save(\"scc\")"
   ]
  },
  {
   "cell_type": "code",
   "execution_count": null,
   "metadata": {},
   "outputs": [],
   "source": [
    "import networkx as nx\n",
    "from utils.graph import Graph\n",
    "\n",
    "nx_graph = nx.Graph()\n",
    "nx_graph.add_nodes_from(\"hello\")\n",
    "nx_graph.add_edge(\"h\", \"e\")\n",
    "\n",
    "graph = Graph.from_networkx(nx_graph)\n",
    "graph.save(\"networkx\")\n",
    "\n",
    "graph2 = Graph.from_networkx(nx.Graph(nx.binomial_tree(4)))\n",
    "graph2.save(\"bitree\")\n"
   ]
  }
 ],
 "metadata": {
  "interpreter": {
   "hash": "1af74b6fd445b57231cb1f4d1d189312d2e0b5c21b4c5b7828a9afbf5c2ec803"
  },
  "kernelspec": {
   "display_name": "Python 3.10.2 64-bit",
   "language": "python",
   "name": "python3"
  },
  "language_info": {
   "codemirror_mode": {
    "name": "ipython",
    "version": 3
   },
   "file_extension": ".py",
   "mimetype": "text/x-python",
   "name": "python",
   "nbconvert_exporter": "python",
   "pygments_lexer": "ipython3",
   "version": "3.10.2"
  },
  "orig_nbformat": 4
 },
 "nbformat": 4,
 "nbformat_minor": 2
}
