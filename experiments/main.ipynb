{
 "cells": [
  {
   "cell_type": "code",
   "execution_count": 40,
   "metadata": {},
   "outputs": [],
   "source": [
    "import os\n",
    "from pathlib import Path\n",
    "import subprocess\n",
    "\n",
    "def run(problem, input):\n",
    "    exe = Path().joinpath(\n",
    "        os.getcwd(),\n",
    "        \"..\",\n",
    "        \"target\",\n",
    "        \"release\",\n",
    "        \"ter.exe\",\n",
    "    ).resolve()\n",
    "    result = subprocess.run(\n",
    "        [\n",
    "            exe,\n",
    "            \"-p\",\n",
    "            problem,\n",
    "            \"-f\",\n",
    "            input,\n",
    "        ],\n",
    "        capture_output=True,\n",
    "        text=True,\n",
    "    )\n",
    "    if result.returncode != 0:\n",
    "        raise Exception(result.stderr)\n",
    "    return result.stdout"
   ]
  },
  {
   "cell_type": "code",
   "execution_count": 41,
   "metadata": {},
   "outputs": [
    {
     "name": "stdout",
     "output_type": "stream",
     "text": [
      "Extension found:\n",
      "1\n",
      "4\n",
      "6\n",
      "Extension found:\n",
      "1\n",
      "Extension found:\n",
      "3\n",
      "1\n",
      "\n"
     ]
    }
   ],
   "source": [
    "print(run(\"EE-CO\", \"../examples/tgf.txt\"))"
   ]
  }
 ],
 "metadata": {
  "interpreter": {
   "hash": "1af74b6fd445b57231cb1f4d1d189312d2e0b5c21b4c5b7828a9afbf5c2ec803"
  },
  "kernelspec": {
   "display_name": "Python 3.10.2 64-bit",
   "language": "python",
   "name": "python3"
  },
  "language_info": {
   "codemirror_mode": {
    "name": "ipython",
    "version": 3
   },
   "file_extension": ".py",
   "mimetype": "text/x-python",
   "name": "python",
   "nbconvert_exporter": "python",
   "pygments_lexer": "ipython3",
   "version": "3.10.2"
  },
  "orig_nbformat": 4
 },
 "nbformat": 4,
 "nbformat_minor": 2
}
