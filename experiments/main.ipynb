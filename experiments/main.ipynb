{
 "cells": [
  {
   "cell_type": "markdown",
   "metadata": {},
   "source": [
    "# Argumentation framework"
   ]
  },
  {
   "cell_type": "code",
   "execution_count": 25,
   "metadata": {},
   "outputs": [],
   "source": [
    "import os\n",
    "from pathlib import Path\n",
    "import subprocess\n",
    "\n",
    "def solve(input: str, problem: str, arg: str = None, solvers: list[str] = None):\n",
    "    exe = Path().joinpath(\n",
    "        os.getcwd(),\n",
    "        \"..\",\n",
    "        \"target\",\n",
    "        \"release\",\n",
    "        \"ter.exe\",\n",
    "    ).resolve()\n",
    "    result = subprocess.run(\n",
    "        [\n",
    "            exe,\n",
    "            \"-p\",\n",
    "            problem,\n",
    "            \"-f\",\n",
    "            input,\n",
    "            *([] if arg is None else [\"-a\", arg]),\n",
    "            *([] if solvers is None else [\"-s\", \",\".join(solvers)]),\n",
    "        ],\n",
    "        capture_output=True,\n",
    "        text=True,\n",
    "    )\n",
    "    if result.returncode != 0:\n",
    "        raise Exception(result.stderr)\n",
    "    return result.stdout"
   ]
  },
  {
   "cell_type": "code",
   "execution_count": 26,
   "metadata": {},
   "outputs": [
    {
     "name": "stdout",
     "output_type": "stream",
     "text": [
      "[1,4,6]\n",
      "\n"
     ]
    }
   ],
   "source": [
    "print(solve(\"../examples/tgf.txt\", \"SE-CO\", solvers=[\"dpll\", \"minisat\"]))"
   ]
  },
  {
   "cell_type": "code",
   "execution_count": 27,
   "metadata": {},
   "outputs": [
    {
     "name": "stdout",
     "output_type": "stream",
     "text": [
      "[[1],[4,1,6],[3,1]]\n",
      "\n"
     ]
    }
   ],
   "source": [
    "print(solve(\"../examples/tgf.txt\", \"EE-CO\"))"
   ]
  },
  {
   "cell_type": "code",
   "execution_count": 28,
   "metadata": {},
   "outputs": [
    {
     "name": "stdout",
     "output_type": "stream",
     "text": [
      "YES\n",
      "\n"
     ]
    }
   ],
   "source": [
    "print(solve(\"../examples/tgf.txt\", \"DC-CO\", arg=\"1\", solvers=[\"manysat\"]))"
   ]
  },
  {
   "cell_type": "code",
   "execution_count": 29,
   "metadata": {},
   "outputs": [
    {
     "name": "stdout",
     "output_type": "stream",
     "text": [
      "YES\n",
      "\n"
     ]
    }
   ],
   "source": [
    "print(solve(\"../examples/tgf.txt\", \"DC-CO\", arg=\"3\"))"
   ]
  },
  {
   "cell_type": "code",
   "execution_count": 30,
   "metadata": {},
   "outputs": [
    {
     "name": "stdout",
     "output_type": "stream",
     "text": [
      "YES\n",
      "\n"
     ]
    }
   ],
   "source": [
    "print(solve(\"../examples/tgf.txt\", \"DS-CO\", arg=\"1\"))"
   ]
  },
  {
   "cell_type": "code",
   "execution_count": 31,
   "metadata": {},
   "outputs": [
    {
     "name": "stdout",
     "output_type": "stream",
     "text": [
      "NO\n",
      "\n"
     ]
    }
   ],
   "source": [
    "print(solve(\"../examples/tgf.txt\", \"DS-CO\", arg=\"3\", solvers=[\"glucose\"]))"
   ]
  }
 ],
 "metadata": {
  "interpreter": {
   "hash": "1af74b6fd445b57231cb1f4d1d189312d2e0b5c21b4c5b7828a9afbf5c2ec803"
  },
  "kernelspec": {
   "display_name": "Python 3.10.2 64-bit",
   "language": "python",
   "name": "python3"
  },
  "language_info": {
   "codemirror_mode": {
    "name": "ipython",
    "version": 3
   },
   "file_extension": ".py",
   "mimetype": "text/x-python",
   "name": "python",
   "nbconvert_exporter": "python",
   "pygments_lexer": "ipython3",
   "version": "3.10.2"
  },
  "orig_nbformat": 4
 },
 "nbformat": 4,
 "nbformat_minor": 2
}
