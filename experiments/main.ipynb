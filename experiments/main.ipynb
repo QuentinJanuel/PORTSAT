{
 "cells": [
  {
   "cell_type": "markdown",
   "metadata": {},
   "source": [
    "# Argumentation framework"
   ]
  },
  {
   "cell_type": "code",
   "execution_count": 51,
   "metadata": {},
   "outputs": [
    {
     "ename": "ModuleNotFoundError",
     "evalue": "No module named 'requests'",
     "output_type": "error",
     "traceback": [
      "\u001b[1;31m---------------------------------------------------------------------------\u001b[0m",
      "\u001b[1;31mModuleNotFoundError\u001b[0m                       Traceback (most recent call last)",
      "\u001b[1;32mc:\\Users\\Sylvain\\Desktop\\Master_info\\TER\\experiments\\main.ipynb Cell 2'\u001b[0m in \u001b[0;36m<cell line: 1>\u001b[1;34m()\u001b[0m\n\u001b[1;32m----> <a href='vscode-notebook-cell:/c%3A/Users/Sylvain/Desktop/Master_info/TER/experiments/main.ipynb#ch0000001?line=0'>1</a>\u001b[0m \u001b[39mfrom\u001b[39;00m \u001b[39mutils\u001b[39;00m\u001b[39m.\u001b[39;00m\u001b[39mtest\u001b[39;00m\u001b[39m.\u001b[39;00m\u001b[39mindex\u001b[39;00m \u001b[39mimport\u001b[39;00m get_testers\n\u001b[0;32m      <a href='vscode-notebook-cell:/c%3A/Users/Sylvain/Desktop/Master_info/TER/experiments/main.ipynb#ch0000001?line=1'>2</a>\u001b[0m \u001b[39mfrom\u001b[39;00m \u001b[39mutils\u001b[39;00m\u001b[39m.\u001b[39;00m\u001b[39mtest\u001b[39;00m\u001b[39m.\u001b[39;00m\u001b[39mtester\u001b[39;00m \u001b[39mimport\u001b[39;00m test\n\u001b[0;32m      <a href='vscode-notebook-cell:/c%3A/Users/Sylvain/Desktop/Master_info/TER/experiments/main.ipynb#ch0000001?line=2'>3</a>\u001b[0m \u001b[39mfrom\u001b[39;00m \u001b[39mutils\u001b[39;00m\u001b[39m.\u001b[39;00m\u001b[39mtest\u001b[39;00m\u001b[39m.\u001b[39;00m\u001b[39mtester\u001b[39;00m \u001b[39mimport\u001b[39;00m displayGraph\n",
      "File \u001b[1;32mc:\\Users\\Sylvain\\Desktop\\Master_info\\TER\\experiments\\utils\\test\\index.py:3\u001b[0m, in \u001b[0;36m<module>\u001b[1;34m\u001b[0m\n\u001b[0;32m      <a href='file:///c%3A/Users/Sylvain/Desktop/Master_info/TER/experiments/utils/test/index.py?line=0'>1</a>\u001b[0m \u001b[39mfrom\u001b[39;00m \u001b[39mpathlib\u001b[39;00m \u001b[39mimport\u001b[39;00m Path\n\u001b[0;32m      <a href='file:///c%3A/Users/Sylvain/Desktop/Master_info/TER/experiments/utils/test/index.py?line=1'>2</a>\u001b[0m \u001b[39mfrom\u001b[39;00m \u001b[39mtyping\u001b[39;00m \u001b[39mimport\u001b[39;00m List, Literal\n\u001b[1;32m----> <a href='file:///c%3A/Users/Sylvain/Desktop/Master_info/TER/experiments/utils/test/index.py?line=2'>3</a>\u001b[0m \u001b[39mfrom\u001b[39;00m \u001b[39mutils\u001b[39;00m\u001b[39m.\u001b[39;00m\u001b[39mtest\u001b[39;00m\u001b[39m.\u001b[39;00m\u001b[39msetup\u001b[39;00m \u001b[39mimport\u001b[39;00m setup\n\u001b[0;32m      <a href='file:///c%3A/Users/Sylvain/Desktop/Master_info/TER/experiments/utils/test/index.py?line=3'>4</a>\u001b[0m \u001b[39mfrom\u001b[39;00m \u001b[39mutils\u001b[39;00m\u001b[39m.\u001b[39;00m\u001b[39mtest\u001b[39;00m\u001b[39m.\u001b[39;00m\u001b[39mtester\u001b[39;00m \u001b[39mimport\u001b[39;00m Tester\n\u001b[0;32m      <a href='file:///c%3A/Users/Sylvain/Desktop/Master_info/TER/experiments/utils/test/index.py?line=6'>7</a>\u001b[0m \u001b[39mdef\u001b[39;00m \u001b[39mget_testers\u001b[39m(\n\u001b[0;32m      <a href='file:///c%3A/Users/Sylvain/Desktop/Master_info/TER/experiments/utils/test/index.py?line=7'>8</a>\u001b[0m     types: List[Literal[\u001b[39m\"\u001b[39m\u001b[39mgr\u001b[39m\u001b[39m\"\u001b[39m, \u001b[39m\"\u001b[39m\u001b[39mst\u001b[39m\u001b[39m\"\u001b[39m, \u001b[39m\"\u001b[39m\u001b[39mscc\u001b[39m\u001b[39m\"\u001b[39m]]\n\u001b[0;32m      <a href='file:///c%3A/Users/Sylvain/Desktop/Master_info/TER/experiments/utils/test/index.py?line=8'>9</a>\u001b[0m ):\n",
      "File \u001b[1;32mc:\\Users\\Sylvain\\Desktop\\Master_info\\TER\\experiments\\utils\\test\\setup.py:4\u001b[0m, in \u001b[0;36m<module>\u001b[1;34m\u001b[0m\n\u001b[0;32m      <a href='file:///c%3A/Users/Sylvain/Desktop/Master_info/TER/experiments/utils/test/setup.py?line=1'>2</a>\u001b[0m \u001b[39mimport\u001b[39;00m \u001b[39mos\u001b[39;00m\n\u001b[0;32m      <a href='file:///c%3A/Users/Sylvain/Desktop/Master_info/TER/experiments/utils/test/setup.py?line=2'>3</a>\u001b[0m \u001b[39mfrom\u001b[39;00m \u001b[39mpathlib\u001b[39;00m \u001b[39mimport\u001b[39;00m Path\n\u001b[1;32m----> <a href='file:///c%3A/Users/Sylvain/Desktop/Master_info/TER/experiments/utils/test/setup.py?line=3'>4</a>\u001b[0m \u001b[39mfrom\u001b[39;00m \u001b[39mutils\u001b[39;00m\u001b[39m.\u001b[39;00m\u001b[39mtest\u001b[39;00m\u001b[39m.\u001b[39;00m\u001b[39mdownload\u001b[39;00m \u001b[39mimport\u001b[39;00m download\n\u001b[0;32m      <a href='file:///c%3A/Users/Sylvain/Desktop/Master_info/TER/experiments/utils/test/setup.py?line=6'>7</a>\u001b[0m \u001b[39mdef\u001b[39;00m \u001b[39msetup\u001b[39m():\n\u001b[0;32m      <a href='file:///c%3A/Users/Sylvain/Desktop/Master_info/TER/experiments/utils/test/setup.py?line=7'>8</a>\u001b[0m     iccma15 \u001b[39m=\u001b[39m Path(\u001b[39m__file__\u001b[39m)\\\n\u001b[0;32m      <a href='file:///c%3A/Users/Sylvain/Desktop/Master_info/TER/experiments/utils/test/setup.py?line=8'>9</a>\u001b[0m         \u001b[39m.\u001b[39mparent\\\n\u001b[0;32m     <a href='file:///c%3A/Users/Sylvain/Desktop/Master_info/TER/experiments/utils/test/setup.py?line=9'>10</a>\u001b[0m         \u001b[39m.\u001b[39mjoinpath(\u001b[39m\"\u001b[39m\u001b[39miccma15\u001b[39m\u001b[39m\"\u001b[39m)\\\n\u001b[0;32m     <a href='file:///c%3A/Users/Sylvain/Desktop/Master_info/TER/experiments/utils/test/setup.py?line=10'>11</a>\u001b[0m         \u001b[39m.\u001b[39mresolve()\n",
      "File \u001b[1;32mc:\\Users\\Sylvain\\Desktop\\Master_info\\TER\\experiments\\utils\\test\\download.py:2\u001b[0m, in \u001b[0;36m<module>\u001b[1;34m\u001b[0m\n\u001b[0;32m      <a href='file:///c%3A/Users/Sylvain/Desktop/Master_info/TER/experiments/utils/test/download.py?line=0'>1</a>\u001b[0m \u001b[39mimport\u001b[39;00m \u001b[39msys\u001b[39;00m\n\u001b[1;32m----> <a href='file:///c%3A/Users/Sylvain/Desktop/Master_info/TER/experiments/utils/test/download.py?line=1'>2</a>\u001b[0m \u001b[39mimport\u001b[39;00m \u001b[39mrequests\u001b[39;00m\n\u001b[0;32m      <a href='file:///c%3A/Users/Sylvain/Desktop/Master_info/TER/experiments/utils/test/download.py?line=2'>3</a>\u001b[0m \u001b[39mfrom\u001b[39;00m \u001b[39mpathlib\u001b[39;00m \u001b[39mimport\u001b[39;00m Path\n\u001b[0;32m      <a href='file:///c%3A/Users/Sylvain/Desktop/Master_info/TER/experiments/utils/test/download.py?line=5'>6</a>\u001b[0m \u001b[39mdef\u001b[39;00m \u001b[39mdownload\u001b[39m(file: Path, url: \u001b[39mstr\u001b[39m):\n",
      "\u001b[1;31mModuleNotFoundError\u001b[0m: No module named 'requests'"
     ]
    }
   ],
   "source": [
    "from utils.test.index import get_testers\n",
    "from utils.test.tester import test\n",
    "from utils.test.tester import displayGraph\n",
    "import os\n",
    "\n",
    "# Complete, stable and preferred\n",
    "test(\n",
    "    testers=get_testers(types=[ \"gr\"])[:2],\n",
    "    solvers=[\"manysat\", \"glucose\"],\n",
    "    semantics=[\"CO\", \"ST\"],\n",
    "    tasks=[\"SE\", \"EE\"],\n",
    "    timeout=1,  # seconds\n",
    ")"
   ]
  },
  {
   "cell_type": "code",
   "execution_count": 52,
   "metadata": {},
   "outputs": [
    {
     "ename": "TypeError",
     "evalue": "unsupported operand type(s) for |: '_GenericAlias' and 'NoneType'",
     "output_type": "error",
     "traceback": [
      "\u001b[1;31m---------------------------------------------------------------------------\u001b[0m",
      "\u001b[1;31mTypeError\u001b[0m                                 Traceback (most recent call last)",
      "\u001b[1;32mc:\\Users\\Sylvain\\Desktop\\Master_info\\TER\\experiments\\main.ipynb Cell 3'\u001b[0m in \u001b[0;36m<cell line: 2>\u001b[1;34m()\u001b[0m\n\u001b[0;32m      <a href='vscode-notebook-cell:/c%3A/Users/Sylvain/Desktop/Master_info/TER/experiments/main.ipynb#ch0000002?line=0'>1</a>\u001b[0m \u001b[39mimport\u001b[39;00m \u001b[39mpandas\u001b[39;00m \u001b[39mas\u001b[39;00m \u001b[39mpd\u001b[39;00m\n\u001b[1;32m----> <a href='vscode-notebook-cell:/c%3A/Users/Sylvain/Desktop/Master_info/TER/experiments/main.ipynb#ch0000002?line=1'>2</a>\u001b[0m \u001b[39mfrom\u001b[39;00m \u001b[39mutils\u001b[39;00m\u001b[39m.\u001b[39;00m\u001b[39mtest\u001b[39;00m\u001b[39m.\u001b[39;00m\u001b[39mtester\u001b[39;00m \u001b[39mimport\u001b[39;00m displayGraph\n\u001b[0;32m      <a href='vscode-notebook-cell:/c%3A/Users/Sylvain/Desktop/Master_info/TER/experiments/main.ipynb#ch0000002?line=3'>4</a>\u001b[0m displayGraph(\u001b[39m\"\u001b[39m\u001b[39mTEST1234.csv\u001b[39m\u001b[39m\"\u001b[39m)\n",
      "File \u001b[1;32mc:\\Users\\Sylvain\\Desktop\\Master_info\\TER\\experiments\\utils\\test\\tester.py:3\u001b[0m, in \u001b[0;36m<module>\u001b[1;34m\u001b[0m\n\u001b[0;32m      <a href='file:///c%3A/Users/Sylvain/Desktop/Master_info/TER/experiments/utils/test/tester.py?line=0'>1</a>\u001b[0m \u001b[39mfrom\u001b[39;00m \u001b[39mpathlib\u001b[39;00m \u001b[39mimport\u001b[39;00m Path\n\u001b[0;32m      <a href='file:///c%3A/Users/Sylvain/Desktop/Master_info/TER/experiments/utils/test/tester.py?line=1'>2</a>\u001b[0m \u001b[39mfrom\u001b[39;00m \u001b[39mtyping\u001b[39;00m \u001b[39mimport\u001b[39;00m List, Literal, Tuple\n\u001b[1;32m----> <a href='file:///c%3A/Users/Sylvain/Desktop/Master_info/TER/experiments/utils/test/tester.py?line=2'>3</a>\u001b[0m \u001b[39mfrom\u001b[39;00m \u001b[39mutils\u001b[39;00m\u001b[39m.\u001b[39;00m\u001b[39mtest\u001b[39;00m\u001b[39m.\u001b[39;00m\u001b[39mext_parser\u001b[39;00m \u001b[39mimport\u001b[39;00m parse_extension, parse_extensions\n\u001b[0;32m      <a href='file:///c%3A/Users/Sylvain/Desktop/Master_info/TER/experiments/utils/test/tester.py?line=3'>4</a>\u001b[0m \u001b[39mfrom\u001b[39;00m \u001b[39mutils\u001b[39;00m\u001b[39m.\u001b[39;00m\u001b[39msolve\u001b[39;00m \u001b[39mimport\u001b[39;00m solve\n\u001b[0;32m      <a href='file:///c%3A/Users/Sylvain/Desktop/Master_info/TER/experiments/utils/test/tester.py?line=4'>5</a>\u001b[0m \u001b[39mimport\u001b[39;00m \u001b[39mpandas\u001b[39;00m \u001b[39mas\u001b[39;00m \u001b[39mpd\u001b[39;00m\n",
      "File \u001b[1;32mc:\\Users\\Sylvain\\Desktop\\Master_info\\TER\\experiments\\utils\\test\\ext_parser.py:4\u001b[0m, in \u001b[0;36m<module>\u001b[1;34m\u001b[0m\n\u001b[0;32m      <a href='file:///c%3A/Users/Sylvain/Desktop/Master_info/TER/experiments/utils/test/ext_parser.py?line=0'>1</a>\u001b[0m \u001b[39mfrom\u001b[39;00m \u001b[39mtyping\u001b[39;00m \u001b[39mimport\u001b[39;00m List\n\u001b[1;32m----> <a href='file:///c%3A/Users/Sylvain/Desktop/Master_info/TER/experiments/utils/test/ext_parser.py?line=3'>4</a>\u001b[0m \u001b[39mdef\u001b[39;00m \u001b[39mparse_extension\u001b[39m(ext: \u001b[39mstr\u001b[39m) \u001b[39m-\u001b[39m\u001b[39m>\u001b[39m List[\u001b[39mstr\u001b[39;49m] \u001b[39m|\u001b[39;49m \u001b[39mNone\u001b[39;49;00m:\n\u001b[0;32m      <a href='file:///c%3A/Users/Sylvain/Desktop/Master_info/TER/experiments/utils/test/ext_parser.py?line=4'>5</a>\u001b[0m     \u001b[39mif\u001b[39;00m ext\u001b[39m.\u001b[39mstrip() \u001b[39m==\u001b[39m \u001b[39m\"\u001b[39m\u001b[39mNO\u001b[39m\u001b[39m\"\u001b[39m:\n\u001b[0;32m      <a href='file:///c%3A/Users/Sylvain/Desktop/Master_info/TER/experiments/utils/test/ext_parser.py?line=5'>6</a>\u001b[0m         \u001b[39mreturn\u001b[39;00m \u001b[39mNone\u001b[39;00m\n",
      "\u001b[1;31mTypeError\u001b[0m: unsupported operand type(s) for |: '_GenericAlias' and 'NoneType'"
     ]
    }
   ],
   "source": [
    "import pandas as pd\n",
    "from utils.test.tester import displayGraph\n",
    "\n",
    "displayGraph(\"TEST1234.csv\")\n"
   ]
  },
  {
   "cell_type": "code",
   "execution_count": 1,
   "metadata": {},
   "outputs": [
    {
     "name": "stdout",
     "output_type": "stream",
     "text": [
      "Initialised _ReproducibleRandom with seed 164748592136\n"
     ]
    },
    {
     "ename": "KeyboardInterrupt",
     "evalue": "",
     "output_type": "error",
     "traceback": [
      "\u001b[1;31m---------------------------------------------------------------------------\u001b[0m",
      "\u001b[1;31mKeyboardInterrupt\u001b[0m                         Traceback (most recent call last)",
      "\u001b[1;32mc:\\Users\\Sylvain\\Desktop\\Master_info\\TER\\experiments\\main.ipynb Cell 4'\u001b[0m in \u001b[0;36m<cell line: 11>\u001b[1;34m()\u001b[0m\n\u001b[0;32m      <a href='vscode-notebook-cell:/c%3A/Users/Sylvain/Desktop/Master_info/TER/experiments/main.ipynb#ch0000003?line=2'>3</a>\u001b[0m \u001b[39mfrom\u001b[39;00m \u001b[39mutils\u001b[39;00m\u001b[39m.\u001b[39;00m\u001b[39mgen\u001b[39;00m\u001b[39m.\u001b[39;00m\u001b[39mscc\u001b[39;00m \u001b[39mimport\u001b[39;00m gen \u001b[39mas\u001b[39;00m gen_scc\n\u001b[0;32m      <a href='vscode-notebook-cell:/c%3A/Users/Sylvain/Desktop/Master_info/TER/experiments/main.ipynb#ch0000003?line=4'>5</a>\u001b[0m \u001b[39m# g_stable = gen_stable(500, 100, 500, 100, 500, 100, 500, .6)\u001b[39;00m\n\u001b[0;32m      <a href='vscode-notebook-cell:/c%3A/Users/Sylvain/Desktop/Master_info/TER/experiments/main.ipynb#ch0000003?line=5'>6</a>\u001b[0m \u001b[39m# g_stable.save(\"stable.txt\")\u001b[39;00m\n\u001b[0;32m      <a href='vscode-notebook-cell:/c%3A/Users/Sylvain/Desktop/Master_info/TER/experiments/main.ipynb#ch0000003?line=6'>7</a>\u001b[0m \n\u001b[0;32m      <a href='vscode-notebook-cell:/c%3A/Users/Sylvain/Desktop/Master_info/TER/experiments/main.ipynb#ch0000003?line=7'>8</a>\u001b[0m \u001b[39m# g_grounded = gen_grounded(500, .3)\u001b[39;00m\n\u001b[0;32m      <a href='vscode-notebook-cell:/c%3A/Users/Sylvain/Desktop/Master_info/TER/experiments/main.ipynb#ch0000003?line=8'>9</a>\u001b[0m \u001b[39m# g_grounded.save(\"grounded\")\u001b[39;00m\n\u001b[1;32m---> <a href='vscode-notebook-cell:/c%3A/Users/Sylvain/Desktop/Master_info/TER/experiments/main.ipynb#ch0000003?line=10'>11</a>\u001b[0m g_scc \u001b[39m=\u001b[39m gen_scc(\u001b[39m500\u001b[39;49m,\u001b[39m500\u001b[39;49m,\u001b[39m.6\u001b[39;49m,\u001b[39m.3\u001b[39;49m,\u001b[39m.4\u001b[39;49m)\n\u001b[0;32m     <a href='vscode-notebook-cell:/c%3A/Users/Sylvain/Desktop/Master_info/TER/experiments/main.ipynb#ch0000003?line=11'>12</a>\u001b[0m g_scc\u001b[39m.\u001b[39msave(\u001b[39m\"\u001b[39m\u001b[39mscc.txt\u001b[39m\u001b[39m\"\u001b[39m)\n",
      "File \u001b[1;32mc:\\Users\\Sylvain\\Desktop\\Master_info\\TER\\experiments\\utils\\gen\\scc.py:29\u001b[0m, in \u001b[0;36mgen\u001b[1;34m(max_a, max_num_scc, att_prob_inner, att_prob_outer, connect_prob)\u001b[0m\n\u001b[0;32m     <a href='file:///c%3A/Users/Sylvain/Desktop/Master_info/TER/experiments/utils/gen/scc.py?line=26'>27</a>\u001b[0m \u001b[39mfor\u001b[39;00m arg1 \u001b[39min\u001b[39;00m c[i]:\n\u001b[0;32m     <a href='file:///c%3A/Users/Sylvain/Desktop/Master_info/TER/experiments/utils/gen/scc.py?line=27'>28</a>\u001b[0m     \u001b[39mfor\u001b[39;00m arg2 \u001b[39min\u001b[39;00m c[j]:\n\u001b[1;32m---> <a href='file:///c%3A/Users/Sylvain/Desktop/Master_info/TER/experiments/utils/gen/scc.py?line=28'>29</a>\u001b[0m         \u001b[39mif\u001b[39;00m (rr\u001b[39m.\u001b[39;49mrandom() \u001b[39m<\u001b[39m att_prob_outer):\n\u001b[0;32m     <a href='file:///c%3A/Users/Sylvain/Desktop/Master_info/TER/experiments/utils/gen/scc.py?line=29'>30</a>\u001b[0m             g\u001b[39m.\u001b[39medges\u001b[39m.\u001b[39mappend((arg1,arg2))\n",
      "\u001b[1;31mKeyboardInterrupt\u001b[0m: "
     ]
    }
   ],
   "source": [
    "# from utils.gen.stable import gen as gen_stable\n",
    "# from utils.gen.grounded import gen as gen_grounded\n",
    "from utils.gen.scc import gen as gen_scc\n",
    "\n",
    "# g_stable = gen_stable(500, 100, 500, 100, 500, 100, 500, .6)\n",
    "# g_stable.save(\"stable.txt\")\n",
    "\n",
    "# g_grounded = gen_grounded(500, .3)\n",
    "# g_grounded.save(\"grounded\")\n",
    "\n",
    "g_scc = gen_scc(500,500,.6,.3,.4)\n",
    "g_scc.save(\"scc.txt\")"
   ]
  },
  {
   "cell_type": "code",
   "execution_count": null,
   "metadata": {},
   "outputs": [],
   "source": [
    "# bench(\n",
    "#     solvers=[\"manysat\", \"minisat\"],\n",
    "#     semantics=\"CO\",\n",
    "#     tasks=\"SE\",\n",
    "#     graphs=[(a, gen_grounded(a, .3)) for a in range(0, 10)],\n",
    "#     abs=\"max arg\",\n",
    "#     ord=\"time\",\n",
    "# )\n",
    "\n",
    "# SUPPOSED TO:\n",
    "# Générer une image d'un graphe pour manysat et un autre pour minisat\n",
    "# (les deux courbes sur le même graphique)\n",
    "# avec la sémanntique CO et la tâche SE\n",
    "# en abscisses: a\n",
    "# en ordonnées: le temps d'exécution pour résoudre gen_grounded(a, .3)\n",
    "# du coup il y aurait 10 points par courbe\n",
    "\n",
    "# AUTRE EXEMPLE\n",
    "# bench(\n",
    "#     solvers=[\"manysat\", \"minisat\"],\n",
    "#     semantics=\"CO\",\n",
    "#     tasks=\"SE\",\n",
    "#     graphs=[(count_arguments(file), file) for file in graph_files],\n",
    "#     abs=\"max arg\",\n",
    "#     ord=\"time\",\n",
    "# )"
   ]
  },
  {
   "cell_type": "code",
   "execution_count": null,
   "metadata": {},
   "outputs": [],
   "source": [
    "from utils.solve import solve\n",
    "from utils.benchmark import benchmark\n",
    "from utils.reprandom import rr\n",
    "from pathlib import Path\n",
    "\n",
    "rep = 10\n",
    "\n",
    "solvers = [\"dpll\", \"minisat\", \"manysat\", \"glucose\"]\n",
    "\n",
    "times = {}\n",
    "\n",
    "for solver in solvers:\n",
    "    times[solver] = 0\n",
    "\n",
    "problems = []\n",
    "for _ in range(rep):\n",
    "    for solver in solvers:\n",
    "        problems.append(solver)\n",
    "\n",
    "sorted(problems, key = lambda _: rr.random())\n",
    "\n",
    "for problem in problems:\n",
    "    times[problem] += benchmark(\n",
    "        solve,\n",
    "        Path.cwd().joinpath(\"graph\", \"grounded.tgf\"),\n",
    "        \"SE-ST\",\n",
    "        solvers=[problem],\n",
    "    )\n",
    "\n",
    "for solver in solvers:\n",
    "    times[solver] /= rep\n",
    "\n",
    "times"
   ]
  }
 ],
 "metadata": {
  "interpreter": {
   "hash": "1af74b6fd445b57231cb1f4d1d189312d2e0b5c21b4c5b7828a9afbf5c2ec803"
  },
  "kernelspec": {
   "display_name": "Python 3.10.2 64-bit",
   "language": "python",
   "name": "python3"
  },
  "language_info": {
   "codemirror_mode": {
    "name": "ipython",
    "version": 3
   },
   "file_extension": ".py",
   "mimetype": "text/x-python",
   "name": "python",
   "nbconvert_exporter": "python",
   "pygments_lexer": "ipython3",
   "version": "3.9.1"
  },
  "orig_nbformat": 4
 },
 "nbformat": 4,
 "nbformat_minor": 2
}
